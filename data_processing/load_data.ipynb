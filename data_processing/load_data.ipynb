{
 "cells": [
  {
   "cell_type": "code",
   "execution_count": 1,
   "id": "769e1a5a-7cd8-44c8-8c37-f8b89444e5b9",
   "metadata": {},
   "outputs": [],
   "source": [
    "import os\n",
    "import urllib.request as request\n",
    "import zipfile\n",
    "from pathlib import Path"
   ]
  },
  {
   "cell_type": "code",
   "execution_count": 2,
   "id": "6dd2c6d1-bed5-4ab6-a6ad-e060c2b61af0",
   "metadata": {},
   "outputs": [],
   "source": [
    "DATA_PUBLIC_URLS = {\n",
    "    'android_permissions': 'https://archive.ics.uci.edu/static/public/722/naticusdroid+android+permissions+dataset.zip',\n",
    "    'crop_mapping': 'https://archive.ics.uci.edu/static/public/525/crop+mapping+using+fused+optical+radar+data+set.zip'\n",
    "}"
   ]
  },
  {
   "cell_type": "code",
   "execution_count": 3,
   "id": "af6714d7-9471-4940-ba7c-27934c1f7b6f",
   "metadata": {},
   "outputs": [],
   "source": [
    "def download_file(dataset_name, url):\n",
    "    filename, headers = request.urlretrieve(\n",
    "        url = url,\n",
    "        filename = f\"../data/{dataset_name}.zip\"\n",
    "    )\n",
    "\n",
    "def extract_zip_file(dataset_name):\n",
    "    zipfile_name = f\"../data/{dataset_name}.zip\"\n",
    "    unzip_path = f\"../data/{dataset_name}\"\n",
    "    os.makedirs(unzip_path, exist_ok=True)\n",
    "    with zipfile.ZipFile(zipfile_name, 'r') as zip_ref:\n",
    "        zip_ref.extractall(unzip_path)"
   ]
  },
  {
   "cell_type": "code",
   "execution_count": 4,
   "id": "ab78e21a-12ab-47fe-9e83-e87c331acbb0",
   "metadata": {},
   "outputs": [],
   "source": [
    "if not os.path.exists(\"../data\"):\n",
    "    os.mkdir(\"../data\")"
   ]
  },
  {
   "cell_type": "code",
   "execution_count": 5,
   "id": "c85c263b-ddec-4e0f-ae58-16bd36705434",
   "metadata": {},
   "outputs": [],
   "source": [
    "dataset_name = 'android_permissions'\n",
    "url = DATA_PUBLIC_URLS[dataset_name]"
   ]
  },
  {
   "cell_type": "code",
   "execution_count": 6,
   "id": "83962052-3578-44aa-bce6-65c6afc675cd",
   "metadata": {},
   "outputs": [],
   "source": [
    "download_file(dataset_name, url)\n",
    "extract_zip_file(dataset_name)"
   ]
  },
  {
   "cell_type": "code",
   "execution_count": 7,
   "id": "cd1044f8-3987-48ba-bcf4-9949f6933b26",
   "metadata": {},
   "outputs": [],
   "source": [
    "dataset_name = 'crop_mapping'\n",
    "url = DATA_PUBLIC_URLS[dataset_name]"
   ]
  },
  {
   "cell_type": "code",
   "execution_count": 8,
   "id": "ff48ae37-3290-428d-bf1c-650152df28f5",
   "metadata": {},
   "outputs": [],
   "source": [
    "download_file(dataset_name, url)\n",
    "extract_zip_file(dataset_name)"
   ]
  },
  {
   "cell_type": "code",
   "execution_count": 9,
   "id": "c8671a39-a2bf-491a-b3f5-480a4ad950ac",
   "metadata": {},
   "outputs": [],
   "source": [
    "# Fix crop mapping data filename\n",
    "os.rename(f\"../data/crop_mapping/WinnipegDataset.txt\", f\"../data/crop_mapping/WinnipegDataset.csv\")"
   ]
  },
  {
   "cell_type": "code",
   "execution_count": null,
   "id": "7af9f1b8-da96-4fc8-be2c-51064776356a",
   "metadata": {},
   "outputs": [],
   "source": []
  }
 ],
 "metadata": {
  "kernelspec": {
   "display_name": "Python 3 (ipykernel)",
   "language": "python",
   "name": "python3"
  },
  "language_info": {
   "codemirror_mode": {
    "name": "ipython",
    "version": 3
   },
   "file_extension": ".py",
   "mimetype": "text/x-python",
   "name": "python",
   "nbconvert_exporter": "python",
   "pygments_lexer": "ipython3",
   "version": "3.12.7"
  }
 },
 "nbformat": 4,
 "nbformat_minor": 5
}
