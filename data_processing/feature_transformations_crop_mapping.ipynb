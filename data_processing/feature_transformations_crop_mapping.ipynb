{
 "cells": [
  {
   "cell_type": "code",
   "execution_count": 1,
   "id": "8c0cac8c-ad3f-4327-9226-6a8425397d75",
   "metadata": {},
   "outputs": [],
   "source": [
    "import json\n",
    "\n",
    "import pandas as pd\n",
    "import numpy as np\n",
    "import matplotlib.pyplot as plt\n",
    "import scipy.linalg as linalg\n",
    "import scipy.stats as stats\n",
    "import pingouin as pg\n",
    "\n",
    "from sklearn.preprocessing import StandardScaler\n",
    "from sklearn.model_selection import train_test_split"
   ]
  },
  {
   "cell_type": "code",
   "execution_count": 2,
   "id": "33e57bd0-1df2-448a-827b-70d1e419cc5a",
   "metadata": {},
   "outputs": [],
   "source": [
    "df = pd.read_csv('../data/crop_mapping/WinnipegDataset.csv')"
   ]
  },
  {
   "cell_type": "code",
   "execution_count": 3,
   "id": "7c9e265a-5302-4b32-85e0-3a926b488625",
   "metadata": {},
   "outputs": [],
   "source": [
    "# Selected subset of potentially useful features (all from 05 July data)\n",
    "labels = {\n",
    "    'label': 'class',\n",
    "    'f1': 'sigHH',\n",
    "    'f2': 'sigHV',\n",
    "    'f3': 'sigVV',\n",
    "    'f7': 'Rhhvv',\n",
    "    'f8': 'Rhvhh',\n",
    "    'f9': 'Rhvvv',\n",
    "    'f25': 'l1',\n",
    "    'f26': 'l2',\n",
    "    'f27': 'l3',\n",
    "    'f28': 'H',\n",
    "    'f29': 'A',\n",
    "    'f30': 'a',\n",
    "    'f31': 'HA',\n",
    "    'f32': 'H1mA',\n",
    "    'f33': '1mHA',\n",
    "    'f34': '1mH1mA',\n",
    "    'f35': 'PH',\n",
    "    'f36': 'rvi',\n",
    "    'f37': 'paulalpha',\n",
    "    'f38': 'paulbeta',\n",
    "    'f39': 'paulgamma',\n",
    "    'f40': 'krogks',\n",
    "    'f41': 'krogkd',\n",
    "    'f42': 'krogkh',\n",
    "    'f43': 'freeodd',\n",
    "    'f44': 'freedbl',\n",
    "    'f45': 'freevol',\n",
    "    'f46': 'yamodd',\n",
    "    'f47': 'yamdbl',\n",
    "    'f48': 'yamhlx',\n",
    "    'f49': 'yamvol',\n",
    "    'f99': 'B',\n",
    "    'f100': 'G',\n",
    "    'f101': 'R',\n",
    "    'f102': 'Redge',\n",
    "    'f103': 'NIR'\n",
    "}\n",
    "features = list(labels.values())"
   ]
  },
  {
   "cell_type": "code",
   "execution_count": 4,
   "id": "ed9aed28-dcce-45d3-b6a8-35a9cbad2e2a",
   "metadata": {},
   "outputs": [],
   "source": [
    "df = df.rename(columns=labels)\n",
    "df = df.dropna()\n",
    "df = df[features]"
   ]
  },
  {
   "cell_type": "code",
   "execution_count": 5,
   "id": "0a7a87b6-a257-4375-9497-24d2d582c342",
   "metadata": {},
   "outputs": [],
   "source": [
    "# Grouping features by prefix to determine nodes of graph\n",
    "node_structure = {\n",
    "    'sig': ['sigHH', 'sigHV', 'sigVV'],\n",
    "    'R': ['Rhhvv', 'Rhvhh', 'Rhvvv'],\n",
    "    'L': ['l1', 'l2', 'l3'],\n",
    "    'PH': ['PH'],\n",
    "    'rvi': ['rvi'],\n",
    "    'paul': ['paulalpha, paulbeta, paulgamma'],\n",
    "    'krog': ['krogks', 'krogkd', 'krogkh'],\n",
    "    'free': ['freeodd', 'freedbl', 'freevol'],\n",
    "    'yam': ['yamodd', 'yamdbl', 'yamhlx', 'yamvol'],\n",
    "    'RGB': ['B', 'G', 'R', 'Redge', 'NIR']\n",
    "}"
   ]
  },
  {
   "cell_type": "code",
   "execution_count": 6,
   "id": "9b027a47-8b7f-41df-ae86-e8a0e0be6684",
   "metadata": {},
   "outputs": [
    {
     "data": {
      "text/plain": [
       "class\n",
       "6    85074\n",
       "3    75673\n",
       "4    74067\n",
       "5    47117\n",
       "1    39162\n",
       "2     3598\n",
       "7     1143\n",
       "Name: count, dtype: int64"
      ]
     },
     "execution_count": 6,
     "metadata": {},
     "output_type": "execute_result"
    }
   ],
   "source": [
    "df['class'].value_counts()"
   ]
  },
  {
   "cell_type": "code",
   "execution_count": 7,
   "id": "3f68cca8-de87-4464-ad12-9eebfa2a541d",
   "metadata": {},
   "outputs": [
    {
     "data": {
      "image/png": "[encoded data removed]",
      "text/plain": [
       "<Figure size 300x300 with 1 Axes>"
      ]
     },
     "metadata": {},
     "output_type": "display_data"
    }
   ],
   "source": [
    "# For the time being we are using a certain segment of the data based on the distribution of sigHH. \n",
    "# This segment has univariate feature distributions much closer to Gaussian or log-Gaussian.\n",
    "threshold = -14.25\n",
    "\n",
    "fig, ax = plt.subplots(figsize=(3,3))\n",
    "plt.hist(df['sigHH'], bins = 200)\n",
    "plt.plot(threshold*np.ones(50), np.linspace(0, 7000, 50))\n",
    "plt.show()"
   ]
  },
  {
   "cell_type": "code",
   "execution_count": 8,
   "id": "01289b45-9ce3-4d79-8feb-d74136eb90d4",
   "metadata": {},
   "outputs": [],
   "source": [
    "df_selection = df.loc[df['sigHH'] < threshold].reset_index()"
   ]
  },
  {
   "cell_type": "code",
   "execution_count": 9,
   "id": "f31be12f-4189-47f2-886e-574ec2a259de",
   "metadata": {},
   "outputs": [
    {
     "data": {
      "text/plain": [
       "class\n",
       "6    82495\n",
       "4    72200\n",
       "5    44815\n",
       "3     2292\n",
       "1     1228\n",
       "2       59\n",
       "Name: count, dtype: int64"
      ]
     },
     "execution_count": 9,
     "metadata": {},
     "output_type": "execute_result"
    }
   ],
   "source": [
    "df_selection['class'].value_counts()"
   ]
  },
  {
   "cell_type": "code",
   "execution_count": 10,
   "id": "578c2deb-ba16-4bc7-a756-d4fe828526c9",
   "metadata": {},
   "outputs": [],
   "source": [
    "X = df_selection.drop(['class'], axis=1)\n",
    "y = df_selection['class']\n",
    "X_train, X_test, y_train, y_test = train_test_split(\n",
    "    X,\n",
    "    y,\n",
    "    test_size = 0.2,\n",
    "    stratify=df_selection['class']\n",
    ")\n",
    "train_index = X_train.index\n",
    "test_index = X_test.index"
   ]
  },
  {
   "cell_type": "code",
   "execution_count": 11,
   "id": "90199d75-4aa5-45f1-a13c-ace5a280ec01",
   "metadata": {},
   "outputs": [],
   "source": [
    "scaler = StandardScaler()\n",
    "scaler.fit(X_train)\n",
    "X_train = pd.DataFrame(scaler.transform(X_train), columns=X_train.columns)\n",
    "X = pd.DataFrame(scaler.transform(X), columns=X.columns)"
   ]
  },
  {
   "cell_type": "code",
   "execution_count": 12,
   "id": "adbe5ac0-dbfc-4b8d-97ab-9451d5464597",
   "metadata": {},
   "outputs": [
    {
     "data": {
      "image/png": "[encoded data removed]",
      "text/plain": [
       "<Figure size 700x200 with 3 Axes>"
      ]
     },
     "metadata": {},
     "output_type": "display_data"
    }
   ],
   "source": [
    "fig, axes = plt.subplots(1,3, figsize=(7,2))\n",
    "axes[0].hist(X_train['sigHH'], bins = 100)\n",
    "axes[1].hist(X_train['sigHV'], bins = 100)\n",
    "axes[2].hist(X_train['sigVV'], bins = 100)\n",
    "plt.show()"
   ]
  },
  {
   "cell_type": "code",
   "execution_count": 13,
   "id": "330813a1-7aab-4746-a82f-c04c6acb219b",
   "metadata": {},
   "outputs": [],
   "source": [
    "# Start collecting new features\n",
    "\n",
    "df_transformed = pd.concat([\n",
    "    X['sigHH'].reset_index(drop=True), \n",
    "    X['sigHV'].reset_index(drop=True), \n",
    "    X['sigVV'].reset_index(drop=True)\n",
    "], axis=1)"
   ]
  },
  {
   "cell_type": "code",
   "execution_count": 14,
   "id": "c6a3e670-6dc3-437c-9a49-f1094f924cd6",
   "metadata": {},
   "outputs": [
    {
     "data": {
      "image/png": "[encoded data removed]",
      "text/plain": [
       "<Figure size 700x200 with 3 Axes>"
      ]
     },
     "metadata": {},
     "output_type": "display_data"
    }
   ],
   "source": [
    "fig, axes = plt.subplots(1,3, figsize=(7,2))\n",
    "axes[0].hist(X_train['Rhhvv'], bins = 100)\n",
    "axes[1].hist(X_train['Rhvhh'], bins = 100)\n",
    "axes[2].hist(X_train['Rhvvv'], bins = 100)\n",
    "plt.show()"
   ]
  },
  {
   "cell_type": "code",
   "execution_count": 15,
   "id": "00ddb807-3686-4778-9398-f9a531819aae",
   "metadata": {},
   "outputs": [],
   "source": [
    "df_transformed = pd.concat([\n",
    "    df_transformed,\n",
    "    X['Rhhvv'].reset_index(drop=True),\n",
    "    X['Rhvhh'].reset_index(drop=True), \n",
    "    X['Rhvvv'].reset_index(drop=True)\n",
    "], axis=1)"
   ]
  },
  {
   "cell_type": "code",
   "execution_count": 16,
   "id": "537a481f-e1b6-4688-8843-56a7dabc226c",
   "metadata": {},
   "outputs": [
    {
     "data": {
      "image/png": "[encoded data removed]",
      "text/plain": [
       "<Figure size 700x200 with 3 Axes>"
      ]
     },
     "metadata": {},
     "output_type": "display_data"
    }
   ],
   "source": [
    "fig, axes = plt.subplots(1,3, figsize=(7,2))\n",
    "axes[0].hist(np.log(X_train['l1'] + 2.5), bins = 100)\n",
    "axes[1].hist(np.log(X_train['l2'] + 2.5), bins = 100)\n",
    "axes[2].hist(np.log(X_train['l3'] + 2.5), bins = 100)\n",
    "plt.show()"
   ]
  },
  {
   "cell_type": "code",
   "execution_count": 17,
   "id": "63ad717c-fe6c-44c5-8ab9-aa226ca5acc1",
   "metadata": {},
   "outputs": [],
   "source": [
    "df_transformed = pd.concat([\n",
    "    df_transformed,\n",
    "    np.log(X['l1'] + 2.5).rename('l1_lg').reset_index(drop=True),\n",
    "    np.log(X['l2'] + 2.5).rename('l2_lg').reset_index(drop=True),\n",
    "    np.log(X['l3'] + 2.5).rename('l3_lg').reset_index(drop=True)\n",
    "], axis=1)"
   ]
  },
  {
   "cell_type": "code",
   "execution_count": 18,
   "id": "08d30770-3758-4a96-a039-375bb791fb5d",
   "metadata": {},
   "outputs": [
    {
     "data": {
      "image/png": "[encoded data removed]",
      "text/plain": [
       "<Figure size 700x200 with 3 Axes>"
      ]
     },
     "metadata": {},
     "output_type": "display_data"
    }
   ],
   "source": [
    "fig, axes = plt.subplots(1,3, figsize=(7,2))\n",
    "axes[0].hist(X_train['H'], bins = 100)\n",
    "axes[1].hist(X_train['A'], bins = 100)\n",
    "axes[2].hist(X_train['a'], bins = 100)\n",
    "plt.show()"
   ]
  },
  {
   "cell_type": "code",
   "execution_count": 19,
   "id": "8e1a2acb-58c3-490e-9877-521a9e2f3b43",
   "metadata": {},
   "outputs": [
    {
     "data": {
      "image/png": "[encoded data removed]",
      "text/plain": [
       "<Figure size 900x200 with 4 Axes>"
      ]
     },
     "metadata": {},
     "output_type": "display_data"
    }
   ],
   "source": [
    "fig, axes = plt.subplots(1,4, figsize=(9,2))\n",
    "axes[0].hist(X_train['HA'], bins = 100)\n",
    "axes[1].hist(X_train['H1mA'], bins = 100)\n",
    "axes[2].hist(X_train['1mHA'], bins = 100)\n",
    "axes[3].hist(X_train['1mH1mA'], bins = 100)\n",
    "plt.show()"
   ]
  },
  {
   "cell_type": "code",
   "execution_count": 20,
   "id": "1328ac34-c7d8-4cf9-afbb-ac97847ba4f2",
   "metadata": {},
   "outputs": [
    {
     "data": {
      "image/png": "[encoded data removed]",
      "text/plain": [
       "<Figure size 700x200 with 3 Axes>"
      ]
     },
     "metadata": {},
     "output_type": "display_data"
    }
   ],
   "source": [
    "fig, axes = plt.subplots(1,3,figsize=(7,2))\n",
    "axes[0].hist(-np.log10(8 - X_train['H']), bins=200)\n",
    "axes[1].hist(-np.log10(3 - X_train['A']), bins=100)\n",
    "axes[2].hist(X_train['a'], bins=100)\n",
    "plt.show()"
   ]
  },
  {
   "cell_type": "code",
   "execution_count": 21,
   "id": "1cc32631-10e8-428b-ab64-39057b478b2c",
   "metadata": {},
   "outputs": [],
   "source": [
    "df_transformed = pd.concat([\n",
    "    df_transformed,\n",
    "    -np.log10(8 - X['H']).rename('H_lg').reset_index(drop=True),\n",
    "    -np.log10(3 - X['A']).rename('A_lg').reset_index(drop=True),\n",
    "    X['a'].reset_index(drop=True)\n",
    "], axis=1)"
   ]
  },
  {
   "cell_type": "code",
   "execution_count": 22,
   "id": "517391d0-e230-406c-980c-24007ed8fb21",
   "metadata": {},
   "outputs": [
    {
     "data": {
      "image/png": "[encoded data removed]",
      "text/plain": [
       "<Figure size 200x200 with 1 Axes>"
      ]
     },
     "metadata": {},
     "output_type": "display_data"
    }
   ],
   "source": [
    "fig, ax = plt.subplots(figsize=(2,2))\n",
    "plt.hist(X_train['PH'], bins=100)\n",
    "plt.show()"
   ]
  },
  {
   "cell_type": "code",
   "execution_count": 23,
   "id": "8b63b3a9-9682-4226-8698-5a6fcac1f31c",
   "metadata": {},
   "outputs": [
    {
     "data": {
      "image/png": "[encoded data removed]",
      "text/plain": [
       "<Figure size 200x200 with 1 Axes>"
      ]
     },
     "metadata": {},
     "output_type": "display_data"
    }
   ],
   "source": [
    "fig, ax = plt.subplots(figsize=(2,2))\n",
    "plt.hist(np.log10(X_train['PH'] + 2.5), bins=100)\n",
    "plt.show()"
   ]
  },
  {
   "cell_type": "code",
   "execution_count": 24,
   "id": "7024ec08-c01b-4ace-aa26-3d1698471867",
   "metadata": {},
   "outputs": [],
   "source": [
    "df_transformed = pd.concat([\n",
    "    df_transformed,\n",
    "    np.log10(X['PH'] + 2.5).rename('PH_lg').reset_index(drop=True),\n",
    "], axis=1)"
   ]
  },
  {
   "cell_type": "code",
   "execution_count": 25,
   "id": "097d350f-d12d-43b0-bfe8-c498ddd942f4",
   "metadata": {},
   "outputs": [
    {
     "data": {
      "image/png": "[encoded data removed]",
      "text/plain": [
       "<Figure size 200x200 with 1 Axes>"
      ]
     },
     "metadata": {},
     "output_type": "display_data"
    }
   ],
   "source": [
    "fig, ax = plt.subplots(figsize=(2,2))\n",
    "plt.hist(X_train['rvi'], bins=100)\n",
    "plt.show()"
   ]
  },
  {
   "cell_type": "code",
   "execution_count": 26,
   "id": "4ac1540c-2639-438d-bf1f-df432bcc28c0",
   "metadata": {},
   "outputs": [
    {
     "data": {
      "image/png": "[encoded data removed]",
      "text/plain": [
       "<Figure size 200x200 with 1 Axes>"
      ]
     },
     "metadata": {},
     "output_type": "display_data"
    }
   ],
   "source": [
    "fig, ax = plt.subplots(figsize=(2,2))\n",
    "plt.hist(np.log10(X_train['rvi'] + 2.5), bins=100)\n",
    "plt.show()"
   ]
  },
  {
   "cell_type": "code",
   "execution_count": 27,
   "id": "197691ea-5c64-4167-912d-a61a90a0d954",
   "metadata": {},
   "outputs": [],
   "source": [
    "df_transformed = pd.concat([\n",
    "    df_transformed,\n",
    "    np.log10(X['rvi'] + 2.5).rename('rvi_lg').reset_index(drop=True),\n",
    "], axis=1)"
   ]
  },
  {
   "cell_type": "code",
   "execution_count": 28,
   "id": "414fb51a-4416-4772-946f-8f1da7b548b6",
   "metadata": {},
   "outputs": [
    {
     "data": {
      "image/png": "[encoded data removed]",
      "text/plain": [
       "<Figure size 700x200 with 3 Axes>"
      ]
     },
     "metadata": {},
     "output_type": "display_data"
    }
   ],
   "source": [
    "fig, axes = plt.subplots(1,3, figsize=(7,2))\n",
    "axes[0].hist(X_train['paulalpha'], bins = 100)\n",
    "axes[1].hist(X_train['paulbeta'], bins = 100)\n",
    "axes[2].hist(X_train['paulgamma'], bins = 100)\n",
    "plt.show()"
   ]
  },
  {
   "cell_type": "code",
   "execution_count": 29,
   "id": "6d69137c-2ff3-4bee-86c2-d4e8ba576b6e",
   "metadata": {},
   "outputs": [],
   "source": [
    "df_transformed = pd.concat([\n",
    "    df_transformed,\n",
    "    X['paulalpha'].reset_index(drop=True),\n",
    "    X['paulbeta'].reset_index(drop=True),\n",
    "    X['paulgamma'].reset_index(drop=True)\n",
    "], axis=1)"
   ]
  },
  {
   "cell_type": "code",
   "execution_count": 30,
   "id": "b33fab1f-8667-45d3-a4fb-13b944cb2736",
   "metadata": {},
   "outputs": [
    {
     "data": {
      "image/png": "[encoded data removed]",
      "text/plain": [
       "<Figure size 700x200 with 3 Axes>"
      ]
     },
     "metadata": {},
     "output_type": "display_data"
    }
   ],
   "source": [
    "fig, axes = plt.subplots(1,3, figsize=(7,2))\n",
    "axes[0].hist(X_train['krogks'], bins = 100)\n",
    "axes[1].hist(X_train['krogkd'], bins = 100)\n",
    "axes[2].hist(X_train['krogkh'], bins = 100)\n",
    "plt.show()"
   ]
  },
  {
   "cell_type": "code",
   "execution_count": 31,
   "id": "f066c4d4-2cf0-407f-a96d-1aaf74f490e9",
   "metadata": {},
   "outputs": [],
   "source": [
    "# Drop krogkh since the selection cannot be transformed to a normal distribution\n",
    "df_transformed = pd.concat([\n",
    "    df_transformed,\n",
    "    X['krogks'].reset_index(drop=True),\n",
    "    X['krogkd'].reset_index(drop=True),\n",
    "], axis=1)"
   ]
  },
  {
   "cell_type": "code",
   "execution_count": 32,
   "id": "a166c10b-2617-464a-af95-00e29eef1219",
   "metadata": {},
   "outputs": [
    {
     "data": {
      "image/png": "[encoded data removed]",
      "text/plain": [
       "<Figure size 700x200 with 3 Axes>"
      ]
     },
     "metadata": {},
     "output_type": "display_data"
    }
   ],
   "source": [
    "fig, axes = plt.subplots(1,3, figsize=(7,2))\n",
    "axes[0].hist(X_train['freeodd'], bins = 100)\n",
    "axes[1].hist(X_train['freedbl'], bins = 100)\n",
    "axes[2].hist(X_train['freevol'], bins = 100)\n",
    "plt.show()"
   ]
  },
  {
   "cell_type": "code",
   "execution_count": 33,
   "id": "d89a60ce-cf9d-4a40-82e1-bbcbcea3e5c2",
   "metadata": {},
   "outputs": [
    {
     "data": {
      "image/png": "[encoded data removed]",
      "text/plain": [
       "<Figure size 200x200 with 1 Axes>"
      ]
     },
     "metadata": {},
     "output_type": "display_data"
    }
   ],
   "source": [
    "fig, ax = plt.subplots(figsize=(2,2))\n",
    "plt.hist(np.log10(X_train['freeodd'] + 2.5), bins=100)\n",
    "plt.show()"
   ]
  },
  {
   "cell_type": "code",
   "execution_count": 34,
   "id": "62ab2993-dd14-488e-af52-9ac5b0cf96c8",
   "metadata": {},
   "outputs": [],
   "source": [
    "df_transformed = pd.concat([\n",
    "    df_transformed,\n",
    "    np.log10(X['freeodd'] + 2.5).rename('freeodd_lg').reset_index(drop=True)\n",
    "], axis=1)"
   ]
  },
  {
   "cell_type": "code",
   "execution_count": 35,
   "id": "b93a1652-5092-4946-ad67-f941d8f8e49c",
   "metadata": {},
   "outputs": [
    {
     "data": {
      "image/png": "[encoded data removed]",
      "text/plain": [
       "<Figure size 900x200 with 4 Axes>"
      ]
     },
     "metadata": {},
     "output_type": "display_data"
    }
   ],
   "source": [
    "fig, axes = plt.subplots(1,4, figsize=(9,2))\n",
    "axes[0].hist(X_train['yamodd'], bins = 100)\n",
    "axes[1].hist(X_train['yamdbl'], bins = 100)\n",
    "axes[2].hist(X_train['yamhlx'], bins = 100)\n",
    "axes[3].hist(X_train['yamvol'], bins = 100)\n",
    "plt.show()"
   ]
  },
  {
   "cell_type": "code",
   "execution_count": 36,
   "id": "0dc7f852-fb49-4c27-9d84-39eb9ccf2639",
   "metadata": {},
   "outputs": [
    {
     "data": {
      "image/png": "[encoded data removed]",
      "text/plain": [
       "<Figure size 200x200 with 1 Axes>"
      ]
     },
     "metadata": {},
     "output_type": "display_data"
    }
   ],
   "source": [
    "fig, ax = plt.subplots(figsize=(2,2))\n",
    "plt.hist(np.log10(X_train['yamodd'] + 2.5), bins=100)\n",
    "plt.show()"
   ]
  },
  {
   "cell_type": "code",
   "execution_count": 37,
   "id": "b0bce373-0ddd-4e93-96e4-62f90c21dfb5",
   "metadata": {},
   "outputs": [],
   "source": [
    "df_transformed = pd.concat([\n",
    "    df_transformed,\n",
    "    np.log10(X['yamodd'] + 2.5).rename('yamodd_lg').reset_index(drop=True)\n",
    "], axis=1)"
   ]
  },
  {
   "cell_type": "code",
   "execution_count": 38,
   "id": "2a933aee-6861-4819-9250-f4e42c967612",
   "metadata": {},
   "outputs": [
    {
     "data": {
      "image/png": "[encoded data removed]",
      "text/plain": [
       "<Figure size 1100x200 with 5 Axes>"
      ]
     },
     "metadata": {},
     "output_type": "display_data"
    }
   ],
   "source": [
    "fig, axes = plt.subplots(1,5, figsize=(11,2))\n",
    "axes[0].hist(X['B'], bins = 100)\n",
    "axes[1].hist(X['G'], bins = 100)\n",
    "axes[2].hist(X['R'], bins = 100)\n",
    "axes[3].hist(X['Redge'], bins = 100)\n",
    "axes[4].hist(X['NIR'], bins = 100)\n",
    "plt.show()"
   ]
  },
  {
   "cell_type": "code",
   "execution_count": 39,
   "id": "7f9a2be9-2435-4f02-934e-5f76b89d22c0",
   "metadata": {},
   "outputs": [
    {
     "data": {
      "image/png": "[encoded data removed]",
      "text/plain": [
       "<Figure size 700x200 with 3 Axes>"
      ]
     },
     "metadata": {},
     "output_type": "display_data"
    }
   ],
   "source": [
    "fig, axes = plt.subplots(1,3, figsize=(7,2))\n",
    "axes[0].hist(np.log10(X['G'] + 3), bins = 100)\n",
    "axes[1].hist(np.log10(X['R'] + 3), bins = 100)\n",
    "axes[2].hist(np.log10(X['Redge'] + 3), bins = 100)\n",
    "plt.show()"
   ]
  },
  {
   "cell_type": "code",
   "execution_count": 40,
   "id": "eea6d595-d4d0-4883-babf-a906e8a6e5a7",
   "metadata": {},
   "outputs": [],
   "source": [
    "df_transformed = pd.concat([\n",
    "    df_transformed,\n",
    "    np.log10(X['G'] + 3).rename('G_lg').reset_index(drop=True),\n",
    "    np.log10(X['R'] + 3).rename('R_lg').reset_index(drop=True),\n",
    "    np.log10(X['Redge'] + 3).rename('Redge_lg').reset_index(drop=True),\n",
    "    X['NIR'].reset_index(drop=True)\n",
    "], axis=1)"
   ]
  },
  {
   "cell_type": "code",
   "execution_count": 41,
   "id": "88220a18-a15a-4742-bbff-886b7480dc08",
   "metadata": {},
   "outputs": [],
   "source": [
    "# Normalize again and include class labels\n",
    "\n",
    "df_tr_scaler = StandardScaler()\n",
    "df_tr_scaler.fit(df_transformed)\n",
    "\n",
    "df_transformed = pd.concat([\n",
    "    df_selection['class'].reset_index(drop=True),\n",
    "    pd.DataFrame(df_tr_scaler.transform(df_transformed), columns=df_transformed.columns)\n",
    "], axis = 1)"
   ]
  },
  {
   "cell_type": "code",
   "execution_count": 42,
   "id": "c6241c5b-8745-4a2d-9d23-50505138244f",
   "metadata": {},
   "outputs": [
    {
     "data": {
      "text/html": [
       "<div>\n",
       "<style scoped>\n",
       "    .dataframe tbody tr th:only-of-type {\n",
       "        vertical-align: middle;\n",
       "    }\n",
       "\n",
       "    .dataframe tbody tr th {\n",
       "        vertical-align: top;\n",
       "    }\n",
       "\n",
       "    .dataframe thead th {\n",
       "        text-align: right;\n",
       "    }\n",
       "</style>\n",
       "<table border=\"1\" class=\"dataframe\">\n",
       "  <thead>\n",
       "    <tr style=\"text-align: right;\">\n",
       "      <th></th>\n",
       "      <th>class</th>\n",
       "      <th>sigHH</th>\n",
       "      <th>sigHV</th>\n",
       "      <th>sigVV</th>\n",
       "      <th>Rhhvv</th>\n",
       "      <th>Rhvhh</th>\n",
       "      <th>Rhvvv</th>\n",
       "      <th>l1_lg</th>\n",
       "      <th>l2_lg</th>\n",
       "      <th>l3_lg</th>\n",
       "      <th>...</th>\n",
       "      <th>paulbeta</th>\n",
       "      <th>paulgamma</th>\n",
       "      <th>krogks</th>\n",
       "      <th>krogkd</th>\n",
       "      <th>freeodd_lg</th>\n",
       "      <th>yamodd_lg</th>\n",
       "      <th>G_lg</th>\n",
       "      <th>R_lg</th>\n",
       "      <th>Redge_lg</th>\n",
       "      <th>NIR</th>\n",
       "    </tr>\n",
       "  </thead>\n",
       "  <tbody>\n",
       "    <tr>\n",
       "      <th>0</th>\n",
       "      <td>1</td>\n",
       "      <td>1.534650</td>\n",
       "      <td>2.784447</td>\n",
       "      <td>4.115965</td>\n",
       "      <td>-3.133641</td>\n",
       "      <td>2.861733</td>\n",
       "      <td>-0.630674</td>\n",
       "      <td>3.662855</td>\n",
       "      <td>1.363474</td>\n",
       "      <td>1.810357</td>\n",
       "      <td>...</td>\n",
       "      <td>3.719510</td>\n",
       "      <td>2.784447</td>\n",
       "      <td>3.371244</td>\n",
       "      <td>5.128501</td>\n",
       "      <td>-0.338141</td>\n",
       "      <td>1.782217</td>\n",
       "      <td>-0.194133</td>\n",
       "      <td>0.533661</td>\n",
       "      <td>-1.558487</td>\n",
       "      <td>-1.874834</td>\n",
       "    </tr>\n",
       "    <tr>\n",
       "      <th>1</th>\n",
       "      <td>1</td>\n",
       "      <td>1.639179</td>\n",
       "      <td>2.424456</td>\n",
       "      <td>3.438106</td>\n",
       "      <td>-2.169777</td>\n",
       "      <td>2.022738</td>\n",
       "      <td>-0.411114</td>\n",
       "      <td>3.031564</td>\n",
       "      <td>1.702457</td>\n",
       "      <td>2.289760</td>\n",
       "      <td>...</td>\n",
       "      <td>3.017513</td>\n",
       "      <td>2.424456</td>\n",
       "      <td>3.096686</td>\n",
       "      <td>4.036456</td>\n",
       "      <td>3.111913</td>\n",
       "      <td>2.614659</td>\n",
       "      <td>0.722445</td>\n",
       "      <td>0.776335</td>\n",
       "      <td>0.590974</td>\n",
       "      <td>-0.755381</td>\n",
       "    </tr>\n",
       "    <tr>\n",
       "      <th>2</th>\n",
       "      <td>1</td>\n",
       "      <td>1.280794</td>\n",
       "      <td>2.302097</td>\n",
       "      <td>3.276544</td>\n",
       "      <td>-2.420645</td>\n",
       "      <td>2.347731</td>\n",
       "      <td>-0.401689</td>\n",
       "      <td>2.835934</td>\n",
       "      <td>1.424706</td>\n",
       "      <td>2.040427</td>\n",
       "      <td>...</td>\n",
       "      <td>2.833735</td>\n",
       "      <td>2.302097</td>\n",
       "      <td>2.608307</td>\n",
       "      <td>3.498448</td>\n",
       "      <td>2.838282</td>\n",
       "      <td>2.346488</td>\n",
       "      <td>1.958623</td>\n",
       "      <td>1.253152</td>\n",
       "      <td>2.037725</td>\n",
       "      <td>-0.500960</td>\n",
       "    </tr>\n",
       "    <tr>\n",
       "      <th>3</th>\n",
       "      <td>1</td>\n",
       "      <td>1.756343</td>\n",
       "      <td>2.919561</td>\n",
       "      <td>3.845524</td>\n",
       "      <td>-2.524155</td>\n",
       "      <td>2.772912</td>\n",
       "      <td>-0.216005</td>\n",
       "      <td>3.404475</td>\n",
       "      <td>1.834172</td>\n",
       "      <td>2.564587</td>\n",
       "      <td>...</td>\n",
       "      <td>3.341469</td>\n",
       "      <td>2.919561</td>\n",
       "      <td>3.229521</td>\n",
       "      <td>4.213299</td>\n",
       "      <td>0.143446</td>\n",
       "      <td>2.729619</td>\n",
       "      <td>-0.033991</td>\n",
       "      <td>0.271076</td>\n",
       "      <td>-0.642645</td>\n",
       "      <td>-0.826619</td>\n",
       "    </tr>\n",
       "    <tr>\n",
       "      <th>4</th>\n",
       "      <td>1</td>\n",
       "      <td>0.948829</td>\n",
       "      <td>1.993600</td>\n",
       "      <td>2.962200</td>\n",
       "      <td>-2.450188</td>\n",
       "      <td>2.280849</td>\n",
       "      <td>-0.466004</td>\n",
       "      <td>2.496939</td>\n",
       "      <td>1.201883</td>\n",
       "      <td>1.752274</td>\n",
       "      <td>...</td>\n",
       "      <td>2.439138</td>\n",
       "      <td>1.993600</td>\n",
       "      <td>2.152026</td>\n",
       "      <td>3.001045</td>\n",
       "      <td>2.512647</td>\n",
       "      <td>2.040327</td>\n",
       "      <td>0.401560</td>\n",
       "      <td>0.533661</td>\n",
       "      <td>0.686464</td>\n",
       "      <td>-0.908034</td>\n",
       "    </tr>\n",
       "    <tr>\n",
       "      <th>...</th>\n",
       "      <td>...</td>\n",
       "      <td>...</td>\n",
       "      <td>...</td>\n",
       "      <td>...</td>\n",
       "      <td>...</td>\n",
       "      <td>...</td>\n",
       "      <td>...</td>\n",
       "      <td>...</td>\n",
       "      <td>...</td>\n",
       "      <td>...</td>\n",
       "      <td>...</td>\n",
       "      <td>...</td>\n",
       "      <td>...</td>\n",
       "      <td>...</td>\n",
       "      <td>...</td>\n",
       "      <td>...</td>\n",
       "      <td>...</td>\n",
       "      <td>...</td>\n",
       "      <td>...</td>\n",
       "      <td>...</td>\n",
       "      <td>...</td>\n",
       "    </tr>\n",
       "    <tr>\n",
       "      <th>203084</th>\n",
       "      <td>6</td>\n",
       "      <td>-0.087271</td>\n",
       "      <td>-0.299099</td>\n",
       "      <td>-0.406024</td>\n",
       "      <td>0.389455</td>\n",
       "      <td>-0.427897</td>\n",
       "      <td>0.033273</td>\n",
       "      <td>-0.501971</td>\n",
       "      <td>0.223679</td>\n",
       "      <td>-0.131449</td>\n",
       "      <td>...</td>\n",
       "      <td>-0.179003</td>\n",
       "      <td>-0.299099</td>\n",
       "      <td>0.140243</td>\n",
       "      <td>0.296632</td>\n",
       "      <td>0.150897</td>\n",
       "      <td>0.113062</td>\n",
       "      <td>-1.384908</td>\n",
       "      <td>-0.329128</td>\n",
       "      <td>-1.558487</td>\n",
       "      <td>-0.979272</td>\n",
       "    </tr>\n",
       "    <tr>\n",
       "      <th>203085</th>\n",
       "      <td>6</td>\n",
       "      <td>0.023001</td>\n",
       "      <td>-0.053908</td>\n",
       "      <td>-0.232169</td>\n",
       "      <td>0.313382</td>\n",
       "      <td>-0.136478</td>\n",
       "      <td>0.156526</td>\n",
       "      <td>-0.282775</td>\n",
       "      <td>0.246421</td>\n",
       "      <td>0.067774</td>\n",
       "      <td>...</td>\n",
       "      <td>-0.130989</td>\n",
       "      <td>-0.053908</td>\n",
       "      <td>0.307645</td>\n",
       "      <td>0.340228</td>\n",
       "      <td>0.288748</td>\n",
       "      <td>0.255839</td>\n",
       "      <td>-1.508683</td>\n",
       "      <td>-0.329128</td>\n",
       "      <td>-1.463139</td>\n",
       "      <td>-0.999626</td>\n",
       "    </tr>\n",
       "    <tr>\n",
       "      <th>203086</th>\n",
       "      <td>6</td>\n",
       "      <td>0.070671</td>\n",
       "      <td>0.130340</td>\n",
       "      <td>-0.188266</td>\n",
       "      <td>0.319787</td>\n",
       "      <td>0.136110</td>\n",
       "      <td>0.331619</td>\n",
       "      <td>-0.211569</td>\n",
       "      <td>0.244325</td>\n",
       "      <td>0.293804</td>\n",
       "      <td>...</td>\n",
       "      <td>-0.180658</td>\n",
       "      <td>0.130340</td>\n",
       "      <td>0.509613</td>\n",
       "      <td>0.384412</td>\n",
       "      <td>0.465141</td>\n",
       "      <td>0.435745</td>\n",
       "      <td>-0.934516</td>\n",
       "      <td>-0.136968</td>\n",
       "      <td>-1.108559</td>\n",
       "      <td>-0.928388</td>\n",
       "    </tr>\n",
       "    <tr>\n",
       "      <th>203087</th>\n",
       "      <td>6</td>\n",
       "      <td>0.230911</td>\n",
       "      <td>0.200732</td>\n",
       "      <td>-0.120363</td>\n",
       "      <td>0.436861</td>\n",
       "      <td>0.020289</td>\n",
       "      <td>0.349639</td>\n",
       "      <td>-0.025291</td>\n",
       "      <td>0.227273</td>\n",
       "      <td>0.382075</td>\n",
       "      <td>...</td>\n",
       "      <td>-0.190592</td>\n",
       "      <td>0.200732</td>\n",
       "      <td>0.982683</td>\n",
       "      <td>0.744830</td>\n",
       "      <td>0.804130</td>\n",
       "      <td>0.741242</td>\n",
       "      <td>-0.731962</td>\n",
       "      <td>0.482839</td>\n",
       "      <td>0.005849</td>\n",
       "      <td>-0.857150</td>\n",
       "    </tr>\n",
       "    <tr>\n",
       "      <th>203088</th>\n",
       "      <td>6</td>\n",
       "      <td>1.466879</td>\n",
       "      <td>1.508888</td>\n",
       "      <td>0.457983</td>\n",
       "      <td>1.273580</td>\n",
       "      <td>0.567776</td>\n",
       "      <td>1.336716</td>\n",
       "      <td>1.072639</td>\n",
       "      <td>0.851162</td>\n",
       "      <td>1.921598</td>\n",
       "      <td>...</td>\n",
       "      <td>0.526858</td>\n",
       "      <td>1.508888</td>\n",
       "      <td>1.658710</td>\n",
       "      <td>1.448461</td>\n",
       "      <td>1.263956</td>\n",
       "      <td>1.209262</td>\n",
       "      <td>-0.635501</td>\n",
       "      <td>-0.395833</td>\n",
       "      <td>-0.866879</td>\n",
       "      <td>-0.816443</td>\n",
       "    </tr>\n",
       "  </tbody>\n",
       "</table>\n",
       "<p>203089 rows × 26 columns</p>\n",
       "</div>"
      ],
      "text/plain": [
       "        class     sigHH     sigHV     sigVV     Rhhvv     Rhvhh     Rhvvv  \\\n",
       "0           1  1.534650  2.784447  4.115965 -3.133641  2.861733 -0.630674   \n",
       "1           1  1.639179  2.424456  3.438106 -2.169777  2.022738 -0.411114   \n",
       "2           1  1.280794  2.302097  3.276544 -2.420645  2.347731 -0.401689   \n",
       "3           1  1.756343  2.919561  3.845524 -2.524155  2.772912 -0.216005   \n",
       "4           1  0.948829  1.993600  2.962200 -2.450188  2.280849 -0.466004   \n",
       "...       ...       ...       ...       ...       ...       ...       ...   \n",
       "203084      6 -0.087271 -0.299099 -0.406024  0.389455 -0.427897  0.033273   \n",
       "203085      6  0.023001 -0.053908 -0.232169  0.313382 -0.136478  0.156526   \n",
       "203086      6  0.070671  0.130340 -0.188266  0.319787  0.136110  0.331619   \n",
       "203087      6  0.230911  0.200732 -0.120363  0.436861  0.020289  0.349639   \n",
       "203088      6  1.466879  1.508888  0.457983  1.273580  0.567776  1.336716   \n",
       "\n",
       "           l1_lg     l2_lg     l3_lg  ...  paulbeta  paulgamma    krogks  \\\n",
       "0       3.662855  1.363474  1.810357  ...  3.719510   2.784447  3.371244   \n",
       "1       3.031564  1.702457  2.289760  ...  3.017513   2.424456  3.096686   \n",
       "2       2.835934  1.424706  2.040427  ...  2.833735   2.302097  2.608307   \n",
       "3       3.404475  1.834172  2.564587  ...  3.341469   2.919561  3.229521   \n",
       "4       2.496939  1.201883  1.752274  ...  2.439138   1.993600  2.152026   \n",
       "...          ...       ...       ...  ...       ...        ...       ...   \n",
       "203084 -0.501971  0.223679 -0.131449  ... -0.179003  -0.299099  0.140243   \n",
       "203085 -0.282775  0.246421  0.067774  ... -0.130989  -0.053908  0.307645   \n",
       "203086 -0.211569  0.244325  0.293804  ... -0.180658   0.130340  0.509613   \n",
       "203087 -0.025291  0.227273  0.382075  ... -0.190592   0.200732  0.982683   \n",
       "203088  1.072639  0.851162  1.921598  ...  0.526858   1.508888  1.658710   \n",
       "\n",
       "          krogkd  freeodd_lg  yamodd_lg      G_lg      R_lg  Redge_lg  \\\n",
       "0       5.128501   -0.338141   1.782217 -0.194133  0.533661 -1.558487   \n",
       "1       4.036456    3.111913   2.614659  0.722445  0.776335  0.590974   \n",
       "2       3.498448    2.838282   2.346488  1.958623  1.253152  2.037725   \n",
       "3       4.213299    0.143446   2.729619 -0.033991  0.271076 -0.642645   \n",
       "4       3.001045    2.512647   2.040327  0.401560  0.533661  0.686464   \n",
       "...          ...         ...        ...       ...       ...       ...   \n",
       "203084  0.296632    0.150897   0.113062 -1.384908 -0.329128 -1.558487   \n",
       "203085  0.340228    0.288748   0.255839 -1.508683 -0.329128 -1.463139   \n",
       "203086  0.384412    0.465141   0.435745 -0.934516 -0.136968 -1.108559   \n",
       "203087  0.744830    0.804130   0.741242 -0.731962  0.482839  0.005849   \n",
       "203088  1.448461    1.263956   1.209262 -0.635501 -0.395833 -0.866879   \n",
       "\n",
       "             NIR  \n",
       "0      -1.874834  \n",
       "1      -0.755381  \n",
       "2      -0.500960  \n",
       "3      -0.826619  \n",
       "4      -0.908034  \n",
       "...          ...  \n",
       "203084 -0.979272  \n",
       "203085 -0.999626  \n",
       "203086 -0.928388  \n",
       "203087 -0.857150  \n",
       "203088 -0.816443  \n",
       "\n",
       "[203089 rows x 26 columns]"
      ]
     },
     "execution_count": 42,
     "metadata": {},
     "output_type": "execute_result"
    }
   ],
   "source": [
    "df_transformed"
   ]
  },
  {
   "cell_type": "code",
   "execution_count": 43,
   "id": "8bc57b66-9d78-4546-b532-4da6ca2ff7e7",
   "metadata": {},
   "outputs": [],
   "source": [
    "df_transformed_train = df_transformed.iloc[train_index]\n",
    "df_transformed_test = df_transformed.iloc[test_index]"
   ]
  },
  {
   "cell_type": "code",
   "execution_count": 44,
   "id": "8d168482-52b5-46db-bdf7-661d467b42f3",
   "metadata": {},
   "outputs": [],
   "source": [
    "# Summarize the transformed features within nodes\n",
    "df_transformed_node_structure = {\n",
    "    'sig': ['sigHH', 'sigHV', 'sigVV'],\n",
    "    'R': ['Rhhvv', 'Rhvhh', 'Rhvvv'],\n",
    "    'L': ['l1_lg', 'l2_lg', 'l3_lg'],\n",
    "    'HA': ['H_lg', 'A_lg', 'a'],\n",
    "    'PH': ['PH_lg'],\n",
    "    'rvi': ['rvi_lg'],\n",
    "    'paul': ['paulalpha', 'paulbeta', 'paulgamma'],\n",
    "    'krog': ['krogks', 'krogkd'],\n",
    "    'free': ['freeodd_lg'],\n",
    "    'yam': ['yamodd_lg'],\n",
    "    'RGB': ['G_lg', 'R_lg', 'Redge_lg', 'NIR']\n",
    "}"
   ]
  },
  {
   "cell_type": "code",
   "execution_count": 45,
   "id": "98184eef-f2bd-4f59-844c-1e17048b1276",
   "metadata": {},
   "outputs": [],
   "source": [
    "with open('../data/crop_mapping/Winnipeg_selection_nodes.json', 'w') as fp:\n",
    "    json.dump(df_transformed_node_structure, fp)\n",
    "\n",
    "df_transformed_train.to_csv('../data/crop_mapping/Winnipeg_selection_transformed_train.csv', mode='w', index=False)\n",
    "df_transformed_test.to_csv('../data/crop_mapping/Winnipeg_selection_transformed_test.csv', mode='w', index=False)"
   ]
  },
  {
   "cell_type": "code",
   "execution_count": null,
   "id": "16505166-a5ed-4295-98c7-9b45589f7d85",
   "metadata": {},
   "outputs": [],
   "source": []
  },
  {
   "cell_type": "code",
   "execution_count": null,
   "id": "6806e029-12a1-48e6-be4b-20af4505584e",
   "metadata": {},
   "outputs": [],
   "source": []
  },
  {
   "cell_type": "code",
   "execution_count": null,
   "id": "f56e02f5-0be0-4532-bf8a-a42331abaff4",
   "metadata": {},
   "outputs": [],
   "source": []
  },
  {
   "cell_type": "code",
   "execution_count": null,
   "id": "fcfc7537-3594-49b6-850d-04afc46ea37d",
   "metadata": {},
   "outputs": [],
   "source": []
  }
 ],
 "metadata": {
  "kernelspec": {
   "display_name": "Python 3 (ipykernel)",
   "language": "python",
   "name": "python3"
  },
  "language_info": {
   "codemirror_mode": {
    "name": "ipython",
    "version": 3
   },
   "file_extension": ".py",
   "mimetype": "text/x-python",
   "name": "python",
   "nbconvert_exporter": "python",
   "pygments_lexer": "ipython3",
   "version": "3.12.7"
  }
 },
 "nbformat": 4,
 "nbformat_minor": 5
}
