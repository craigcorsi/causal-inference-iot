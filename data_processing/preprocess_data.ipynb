{
 "cells": [
  {
   "cell_type": "code",
   "execution_count": 1,
   "id": "54976a6d-3aeb-4b56-b9d2-b1d2a03ca46a",
   "metadata": {},
   "outputs": [],
   "source": [
    "import pandas as pd"
   ]
  },
  {
   "cell_type": "code",
   "execution_count": 2,
   "id": "8cd3eeb0-2436-4467-9e1b-4f65b380e24c",
   "metadata": {},
   "outputs": [],
   "source": [
    "crops = pd.read_csv('../data/crop_mapping/WinnipegDataset.csv')"
   ]
  },
  {
   "cell_type": "code",
   "execution_count": 4,
   "id": "ebe48d98-3388-4171-941e-df82f8d45221",
   "metadata": {},
   "outputs": [],
   "source": [
    "with open('../data/crop_mapping/features.txt', 'r') as features:\n",
    "    features_lines = features.readlines()\n",
    "    feature_dict = {}\n",
    "    type_dict = {}\n",
    "    for line in features_lines:\n",
    "        line = line.replace('\\n', '')\n",
    "        key, val = line.split(':')\n",
    "        feature_dict[key] = val"
   ]
  },
  {
   "cell_type": "code",
   "execution_count": 5,
   "id": "dae69bb3-9a08-430f-af81-3847e2b9d7e6",
   "metadata": {},
   "outputs": [],
   "source": [
    "crops.rename(columns=feature_dict, inplace=True)"
   ]
  },
  {
   "cell_type": "code",
   "execution_count": 6,
   "id": "381ca6bf-b221-4eea-a559-bb5ec33a380e",
   "metadata": {},
   "outputs": [],
   "source": [
    "crops_05July = crops.filter(regex='05July')\n",
    "crops_05July = pd.concat([crops['crop type class'], crops_05July], axis=1)"
   ]
  },
  {
   "cell_type": "code",
   "execution_count": 7,
   "id": "d0ef9e31-bb4b-4407-89e8-861f5d18f621",
   "metadata": {},
   "outputs": [],
   "source": [
    "crops_14July = crops.filter(regex='14July')\n",
    "crops_14July = pd.concat([crops['crop type class'], crops_14July], axis=1)"
   ]
  },
  {
   "cell_type": "code",
   "execution_count": 8,
   "id": "9d11c64f-662a-4e40-9305-218da526dfa6",
   "metadata": {},
   "outputs": [],
   "source": [
    "def parse_feature_type(features):\n",
    "    parsed_features = []\n",
    "    type_dict = {}\n",
    "    for s in features:\n",
    "        if not '_' in s:\n",
    "            type_dict[s] = ''\n",
    "            parsed_features.append(s)\n",
    "        else:\n",
    "            key, val = s.split('_')\n",
    "            type_dict[key] = val\n",
    "            parsed_features.append(key)\n",
    "    return parsed_features, type_dict"
   ]
  },
  {
   "cell_type": "code",
   "execution_count": 9,
   "id": "8c128998-fc96-4aa6-9cee-27ce1e4874f0",
   "metadata": {},
   "outputs": [],
   "source": [
    "parsed_features, type_dict = parse_feature_type(list(crops_05July.columns))"
   ]
  },
  {
   "cell_type": "code",
   "execution_count": 10,
   "id": "9fa64641-bfdc-4ca8-8952-01097407f9e1",
   "metadata": {},
   "outputs": [],
   "source": [
    "crops_05July.rename(columns=dict(zip(crops_05July.columns, parsed_features)), inplace=True)\n",
    "crops_14July.rename(columns=dict(zip(crops_14July.columns, parsed_features)), inplace=True)\n",
    "crops_05July.rename({'crop type class': 'class'}, axis=1, inplace=True)\n",
    "crops_14July.rename({'crop type class': 'class'}, axis=1, inplace=True)"
   ]
  },
  {
   "cell_type": "code",
   "execution_count": 11,
   "id": "f69598dd-3f76-4a01-a1fe-65eda5e444d1",
   "metadata": {},
   "outputs": [],
   "source": [
    "X_train = crops_05July.drop(['class'], axis=1)\n",
    "X_test = crops_14July.drop(['class'], axis=1)\n",
    "y_train = crops_05July['class']\n",
    "y_test = crops_14July['class']"
   ]
  },
  {
   "cell_type": "code",
   "execution_count": 12,
   "id": "58113193-c655-44be-8802-3e34ec6ec161",
   "metadata": {},
   "outputs": [],
   "source": [
    "X_train.to_csv('../data/crop_mapping/preprocessed_train.csv', mode=\"w\", index=False)\n",
    "X_test.to_csv('../data/crop_mapping/preprocessed_test.csv', mode=\"w\", index=False)\n",
    "y_train.to_csv('../data/crop_mapping/labels_train.csv', mode=\"w\", index=False)\n",
    "y_test.to_csv('../data/crop_mapping/labels_test.csv', mode=\"w\", index=False)"
   ]
  },
  {
   "cell_type": "code",
   "execution_count": null,
   "id": "e7aec722-8232-4f98-8148-ec3a326f05a2",
   "metadata": {},
   "outputs": [],
   "source": []
  }
 ],
 "metadata": {
  "kernelspec": {
   "display_name": "Python 3 (ipykernel)",
   "language": "python",
   "name": "python3"
  },
  "language_info": {
   "codemirror_mode": {
    "name": "ipython",
    "version": 3
   },
   "file_extension": ".py",
   "mimetype": "text/x-python",
   "name": "python",
   "nbconvert_exporter": "python",
   "pygments_lexer": "ipython3",
   "version": "3.12.7"
  }
 },
 "nbformat": 4,
 "nbformat_minor": 5
}
