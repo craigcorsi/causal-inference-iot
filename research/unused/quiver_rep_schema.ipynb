{
 "cells": [
  {
   "cell_type": "code",
   "execution_count": 1,
   "id": "1551c9a1-0311-4ec3-b4f9-89b9fd26591b",
   "metadata": {},
   "outputs": [],
   "source": [
    "import numpy as np\n",
    "import scipy.linalg as linalg\n",
    "\n",
    "from linear_algebra_utils import *\n",
    "from digraph_algorithms import *"
   ]
  },
  {
   "cell_type": "code",
   "execution_count": 2,
   "id": "79fa8317-fdde-42aa-aeb1-7ef225b114f0",
   "metadata": {},
   "outputs": [],
   "source": [
    "# Examples of orthogonal complement and subspace intersection from linear_algebra_utils\n",
    "A1 = [\n",
    "    np.array([\n",
    "        [1.0], [1.0], [0.0]\n",
    "    ]),\n",
    "    np.array([\n",
    "        [0.0], [0.0], [1.0]\n",
    "    ])\n",
    "]\n",
    "A2 = [\n",
    "    np.array([\n",
    "        [1.0], [0.0], [0.0]\n",
    "    ]),\n",
    "    np.array([\n",
    "        [0.0], [1.0], [1.0]\n",
    "    ])\n",
    "]\n",
    "A3 = [\n",
    "    np.array([\n",
    "        [1.0], [1.0], [0.0]\n",
    "    ]),\n",
    "    np.array([\n",
    "        [0.0], [1.0], [1.0]\n",
    "    ])\n",
    "]"
   ]
  },
  {
   "cell_type": "code",
   "execution_count": 3,
   "id": "451c5773-a777-4205-bea7-f7cd1f98a4c1",
   "metadata": {},
   "outputs": [
    {
     "data": {
      "text/plain": [
       "[array([[ 0.70710678],\n",
       "        [-0.70710678],\n",
       "        [ 0.        ]])]"
      ]
     },
     "execution_count": 3,
     "metadata": {},
     "output_type": "execute_result"
    }
   ],
   "source": [
    "orthogonal_complement(A1)"
   ]
  },
  {
   "cell_type": "code",
   "execution_count": 4,
   "id": "99aa528f-9c61-4962-8811-f1043b4e93a2",
   "metadata": {
    "scrolled": true
   },
   "outputs": [
    {
     "data": {
      "text/plain": [
       "[array([[0.57735027],\n",
       "        [0.57735027],\n",
       "        [0.57735027]])]"
      ]
     },
     "execution_count": 4,
     "metadata": {},
     "output_type": "execute_result"
    }
   ],
   "source": [
    "subspace_intersection([A1,A2])"
   ]
  },
  {
   "cell_type": "code",
   "execution_count": 5,
   "id": "3dadc6d7-bf60-4e56-b788-f780c7c4b91c",
   "metadata": {
    "scrolled": true
   },
   "outputs": [
    {
     "data": {
      "text/plain": [
       "[array([[0.70710678],\n",
       "        [0.70710678],\n",
       "        [0.        ]]),\n",
       " array([[0.],\n",
       "        [0.],\n",
       "        [1.]])]"
      ]
     },
     "execution_count": 5,
     "metadata": {},
     "output_type": "execute_result"
    }
   ],
   "source": [
    "subspace_intersection([A1])"
   ]
  },
  {
   "cell_type": "code",
   "execution_count": 6,
   "id": "967550a7-a87b-497b-bf33-0ba9d5e24d4c",
   "metadata": {},
   "outputs": [
    {
     "data": {
      "text/plain": [
       "array([[0.],\n",
       "       [0.],\n",
       "       [0.]])"
      ]
     },
     "execution_count": 6,
     "metadata": {},
     "output_type": "execute_result"
    }
   ],
   "source": [
    "subspace_intersection([A1,A2,A3])"
   ]
  },
  {
   "cell_type": "code",
   "execution_count": 7,
   "id": "1555027e-0f78-41b1-8fe6-5955501a2cd8",
   "metadata": {},
   "outputs": [],
   "source": [
    "# Example of augmenting a DAG with a root node\n",
    "G = nx.DiGraph()\n",
    "arrows = [('X', 'Z'), ('Y', 'Z')]\n",
    "G.add_edges_from(arrows)"
   ]
  },
  {
   "cell_type": "code",
   "execution_count": 8,
   "id": "69659e73-407b-4488-850b-f66a42fec273",
   "metadata": {},
   "outputs": [],
   "source": [
    "dimensions = {\n",
    "    'X': 3,\n",
    "    'Y': 3,\n",
    "    'Z': 2,\n",
    "}"
   ]
  },
  {
   "cell_type": "code",
   "execution_count": 9,
   "id": "9abf3f42-d5fd-4fb9-b1da-8326e3c91b63",
   "metadata": {},
   "outputs": [],
   "source": [
    "# Construct (bases for) vector spaces at each node\n",
    "bases = {}\n",
    "\n",
    "for node in list(dimensions.keys()):\n",
    "    basematrix = np.eye(dimensions[node])\n",
    "    bases[node] = [basematrix[i][:,np.newaxis] for i in range(dimensions[node])]"
   ]
  },
  {
   "cell_type": "code",
   "execution_count": 10,
   "id": "13702c37-a079-410c-8613-bea5ff62be97",
   "metadata": {},
   "outputs": [],
   "source": [
    "nx.set_node_attributes(G,dimensions,'dimension')\n",
    "nx.set_node_attributes(G,bases,'basis')"
   ]
  },
  {
   "cell_type": "code",
   "execution_count": 11,
   "id": "d4f39cb7-d326-4295-8046-88ebca6d8e95",
   "metadata": {},
   "outputs": [
    {
     "data": {
      "text/plain": [
       "[array([[1.],\n",
       "        [0.],\n",
       "        [0.]]),\n",
       " array([[0.],\n",
       "        [1.],\n",
       "        [0.]]),\n",
       " array([[0.],\n",
       "        [0.],\n",
       "        [1.]])]"
      ]
     },
     "execution_count": 11,
     "metadata": {},
     "output_type": "execute_result"
    }
   ],
   "source": [
    "G.nodes['X']['basis']"
   ]
  },
  {
   "cell_type": "code",
   "execution_count": 12,
   "id": "e8423d3a-f115-4f0a-a392-f859c250ca23",
   "metadata": {},
   "outputs": [],
   "source": [
    "# Construct linear maps at each edge\n",
    "rep_maps = {\n",
    "    ('X', 'Z'): np.array([\n",
    "        [1.0,0.0,0.0],\n",
    "        [0.0,1.0,1.0]\n",
    "    ]),\n",
    "    ('Y', 'Z'): np.array([\n",
    "        [1.0,1.0,0.0],\n",
    "        [0.0,0.0,1.0]\n",
    "    ])\n",
    "}"
   ]
  },
  {
   "cell_type": "code",
   "execution_count": 13,
   "id": "1b14678b-08f7-48e3-b6f0-6cad2f1650c7",
   "metadata": {},
   "outputs": [],
   "source": [
    "nx.set_edge_attributes(G,rep_maps,'rep map')"
   ]
  },
  {
   "cell_type": "code",
   "execution_count": 14,
   "id": "1d2f5de8-c375-43d1-a5fb-a0247aad974e",
   "metadata": {},
   "outputs": [
    {
     "data": {
      "image/png": "[encoded data removed]",
      "text/plain": [
       "<Figure size 640x480 with 1 Axes>"
      ]
     },
     "metadata": {},
     "output_type": "display_data"
    }
   ],
   "source": [
    "nx.draw_networkx(G)"
   ]
  },
  {
   "cell_type": "code",
   "execution_count": 15,
   "id": "c38a5ba0-a2b2-41e7-8d9d-108552bdf59d",
   "metadata": {},
   "outputs": [
    {
     "data": {
      "text/plain": [
       "array([[1., 0., 0.],\n",
       "       [0., 1., 1.]])"
      ]
     },
     "execution_count": 15,
     "metadata": {},
     "output_type": "execute_result"
    }
   ],
   "source": [
    "G.edges[('X', 'Z')]['rep map']"
   ]
  },
  {
   "cell_type": "code",
   "execution_count": 16,
   "id": "03a78cfa-8c92-4f33-925d-5dcf5df20ee9",
   "metadata": {},
   "outputs": [],
   "source": [
    "Gp = augment_DAG_with_root(G)"
   ]
  },
  {
   "cell_type": "code",
   "execution_count": 17,
   "id": "e1709c97-30c6-440a-85b5-c85899754f99",
   "metadata": {},
   "outputs": [
    {
     "data": {
      "image/png": "[encoded data removed]",
      "text/plain": [
       "<Figure size 640x480 with 1 Axes>"
      ]
     },
     "metadata": {},
     "output_type": "display_data"
    }
   ],
   "source": [
    "nx.draw_networkx(Gp)"
   ]
  },
  {
   "cell_type": "code",
   "execution_count": 18,
   "id": "5c9d8ca0-abae-49b1-89bc-f90700ec2e41",
   "metadata": {},
   "outputs": [
    {
     "data": {
      "text/plain": [
       "{'dimension': 6,\n",
       " 'basis': [array([[1.],\n",
       "         [0.],\n",
       "         [0.],\n",
       "         [0.],\n",
       "         [0.],\n",
       "         [0.]]),\n",
       "  array([[0.],\n",
       "         [1.],\n",
       "         [0.],\n",
       "         [0.],\n",
       "         [0.],\n",
       "         [0.]]),\n",
       "  array([[0.],\n",
       "         [0.],\n",
       "         [1.],\n",
       "         [0.],\n",
       "         [0.],\n",
       "         [0.]]),\n",
       "  array([[0.],\n",
       "         [0.],\n",
       "         [0.],\n",
       "         [1.],\n",
       "         [0.],\n",
       "         [0.]]),\n",
       "  array([[0.],\n",
       "         [0.],\n",
       "         [0.],\n",
       "         [0.],\n",
       "         [1.],\n",
       "         [0.]]),\n",
       "  array([[0.],\n",
       "         [0.],\n",
       "         [0.],\n",
       "         [0.],\n",
       "         [0.],\n",
       "         [1.]])]}"
      ]
     },
     "execution_count": 18,
     "metadata": {},
     "output_type": "execute_result"
    }
   ],
   "source": [
    "Gp.nodes['*']"
   ]
  },
  {
   "cell_type": "code",
   "execution_count": 19,
   "id": "fcafc9d7-668a-4b78-9e19-05b8232eeb8e",
   "metadata": {},
   "outputs": [
    {
     "data": {
      "text/plain": [
       "array([[1., 0., 0., 0., 0., 0.],\n",
       "       [0., 1., 0., 0., 0., 0.],\n",
       "       [0., 0., 1., 0., 0., 0.]])"
      ]
     },
     "execution_count": 19,
     "metadata": {},
     "output_type": "execute_result"
    }
   ],
   "source": [
    "Gp.edges[('*','X')]['rep map']"
   ]
  },
  {
   "cell_type": "code",
   "execution_count": 20,
   "id": "7a5ed5de-75ae-47a9-a452-5b1e2ecbd54f",
   "metadata": {},
   "outputs": [
    {
     "data": {
      "text/plain": [
       "array([[0., 0., 0., 1., 0., 0.],\n",
       "       [0., 0., 0., 0., 1., 0.],\n",
       "       [0., 0., 0., 0., 0., 1.]])"
      ]
     },
     "execution_count": 20,
     "metadata": {},
     "output_type": "execute_result"
    }
   ],
   "source": [
    "Gp.edges[('*','Y')]['rep map']"
   ]
  },
  {
   "cell_type": "code",
   "execution_count": 21,
   "id": "6c78d9dd-98e9-4f48-8dac-5b009e162045",
   "metadata": {},
   "outputs": [],
   "source": [
    "Tp = spanning_arborescence(Gp)"
   ]
  },
  {
   "cell_type": "code",
   "execution_count": 22,
   "id": "f74f3519-e935-48be-b7df-6fd7bd16e111",
   "metadata": {},
   "outputs": [
    {
     "data": {
      "image/png": "[encoded data removed]",
      "text/plain": [
       "<Figure size 640x480 with 1 Axes>"
      ]
     },
     "metadata": {},
     "output_type": "display_data"
    }
   ],
   "source": [
    "nx.draw_networkx(Tp)"
   ]
  },
  {
   "cell_type": "code",
   "execution_count": null,
   "id": "a3c033cb-6520-42b8-bd02-97f94a382938",
   "metadata": {},
   "outputs": [],
   "source": []
  }
 ],
 "metadata": {
  "kernelspec": {
   "display_name": "Python 3 (ipykernel)",
   "language": "python",
   "name": "python3"
  },
  "language_info": {
   "codemirror_mode": {
    "name": "ipython",
    "version": 3
   },
   "file_extension": ".py",
   "mimetype": "text/x-python",
   "name": "python",
   "nbconvert_exporter": "python",
   "pygments_lexer": "ipython3",
   "version": "3.12.7"
  }
 },
 "nbformat": 4,
 "nbformat_minor": 5
}
