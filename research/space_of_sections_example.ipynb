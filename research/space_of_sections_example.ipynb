{
 "cells": [
  {
   "cell_type": "code",
   "execution_count": 1,
   "id": "8c0d4ad4-7390-4419-bbdf-f768bc05ead5",
   "metadata": {},
   "outputs": [],
   "source": [
    "import numpy as np\n",
    "import scipy.linalg as linalg\n",
    "\n",
    "from linear_algebra_utils import *\n",
    "from digraph_algorithms import *\n",
    "from quiver_pca import *"
   ]
  },
  {
   "cell_type": "code",
   "execution_count": null,
   "id": "fad2721c-64ff-4233-903c-67c0e7ffaa22",
   "metadata": {},
   "outputs": [],
   "source": []
  },
  {
   "cell_type": "code",
   "execution_count": 2,
   "id": "37b0192f-8cb2-4c8d-97ae-f6c593006276",
   "metadata": {},
   "outputs": [],
   "source": [
    "# Example of augmenting a DAG with a root node\n",
    "Q = nx.DiGraph()\n",
    "arrows = [('X', 'Z'), ('Y', 'Z')]\n",
    "Q.add_edges_from(arrows)\n",
    "\n",
    "\n",
    "dimensions = {\n",
    "    'X': 3,\n",
    "    'Y': 3,\n",
    "    'Z': 2,\n",
    "}\n",
    "\n",
    "bases = construct_standard_bases(dimensions)\n",
    "\n",
    "nx.set_node_attributes(Q,dimensions,'dimension')\n",
    "nx.set_node_attributes(Q,bases,'basis')"
   ]
  },
  {
   "cell_type": "code",
   "execution_count": 3,
   "id": "04bb1bfe-b95c-411a-8143-e00dea5020c8",
   "metadata": {},
   "outputs": [],
   "source": [
    "# Construct linear maps at each edge\n",
    "rep_maps = {\n",
    "    ('X', 'Z'): np.array([\n",
    "        [1.0,0.0,0.0],\n",
    "        [0.0,1.0,1.0]\n",
    "    ]),\n",
    "    ('Y', 'Z'): np.array([\n",
    "        [1.0,1.0,0.0],\n",
    "        [0.0,0.0,1.0]\n",
    "    ])\n",
    "}\n",
    "nx.set_edge_attributes(Q,rep_maps,'rep map')"
   ]
  },
  {
   "cell_type": "code",
   "execution_count": 4,
   "id": "da888f2e-1414-40ce-a9dd-2054ed0dc56b",
   "metadata": {},
   "outputs": [],
   "source": [
    "Qplus = augment_DAG_with_root(Q)"
   ]
  },
  {
   "cell_type": "code",
   "execution_count": 5,
   "id": "8f11c902-faf2-4896-bc01-7b582fb89d36",
   "metadata": {},
   "outputs": [],
   "source": [
    "generate_space_of_sections(Qplus)"
   ]
  },
  {
   "cell_type": "code",
   "execution_count": 6,
   "id": "a0d7be90-dd45-45db-a926-e98afcacc3a8",
   "metadata": {},
   "outputs": [
    {
     "data": {
      "text/plain": [
       "[array([[ 0.        ],\n",
       "        [-0.57735027],\n",
       "        [ 0.78867513],\n",
       "        [ 0.        ],\n",
       "        [ 0.        ],\n",
       "        [ 0.21132487]]),\n",
       " array([[ 0.57735027],\n",
       "        [ 0.        ],\n",
       "        [ 0.        ],\n",
       "        [ 0.78867513],\n",
       "        [-0.21132487],\n",
       "        [ 0.        ]]),\n",
       " array([[ 0.57735027],\n",
       "        [ 0.        ],\n",
       "        [ 0.        ],\n",
       "        [-0.21132487],\n",
       "        [ 0.78867513],\n",
       "        [ 0.        ]]),\n",
       " array([[0.        ],\n",
       "        [0.57735027],\n",
       "        [0.21132487],\n",
       "        [0.        ],\n",
       "        [0.        ],\n",
       "        [0.78867513]])]"
      ]
     },
     "execution_count": 6,
     "metadata": {},
     "output_type": "execute_result"
    }
   ],
   "source": [
    "Qplus.nodes['Z']['flow space']"
   ]
  },
  {
   "cell_type": "code",
   "execution_count": 7,
   "id": "a739fd9f-ee68-425f-89d1-f44b8657379a",
   "metadata": {},
   "outputs": [
    {
     "data": {
      "text/plain": [
       "array([[1., 0., 0., 0., 0., 0.],\n",
       "       [0., 1., 1., 0., 0., 0.]])"
      ]
     },
     "execution_count": 7,
     "metadata": {},
     "output_type": "execute_result"
    }
   ],
   "source": [
    "Qplus.nodes['Z']['flow map']"
   ]
  },
  {
   "cell_type": "code",
   "execution_count": null,
   "id": "e40e47d7-00e5-4b78-99da-0dd8ff13bc85",
   "metadata": {},
   "outputs": [],
   "source": []
  }
 ],
 "metadata": {
  "kernelspec": {
   "display_name": "Python 3 (ipykernel)",
   "language": "python",
   "name": "python3"
  },
  "language_info": {
   "codemirror_mode": {
    "name": "ipython",
    "version": 3
   },
   "file_extension": ".py",
   "mimetype": "text/x-python",
   "name": "python",
   "nbconvert_exporter": "python",
   "pygments_lexer": "ipython3",
   "version": "3.12.7"
  }
 },
 "nbformat": 4,
 "nbformat_minor": 5
}
