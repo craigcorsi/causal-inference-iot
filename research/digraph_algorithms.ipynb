{
 "cells": [
  {
   "cell_type": "code",
   "execution_count": 1,
   "id": "4c97870b-4122-4db8-8a96-7f1f3e687ff8",
   "metadata": {},
   "outputs": [],
   "source": [
    "import networkx as nx"
   ]
  },
  {
   "cell_type": "code",
   "execution_count": 4,
   "id": "c5c8e188-3eea-4af0-bf11-8bd688512e09",
   "metadata": {},
   "outputs": [],
   "source": [
    "def initial_nodes(G):\n",
    "    nodes = list(G.nodes)\n",
    "    nodes_with_indeg_0 = filter(lambda v: G.in_degree(v) == 0, nodes)\n",
    "    return list(nodes_with_indeg_0)"
   ]
  },
  {
   "cell_type": "code",
   "execution_count": 5,
   "id": "f086fe26-65c6-4d3d-a933-cf16fd22b876",
   "metadata": {},
   "outputs": [],
   "source": [
    "# Given an acyclic graph G, construct a new graph with a root vertex, whose edges connect to the nodes in G with indegree 0\n",
    "def augmented_DAG_by_root(G):\n",
    "    # Does not augment if G already has a root\n",
    "    if not nx.is_directed_acyclic_graph(G):\n",
    "        print(\"The directed graph must be acyclic.\")\n",
    "        return\n",
    "    \n",
    "    G1 = G.copy()\n",
    "    head_nodes = initial_nodes(G1)\n",
    "    if len(head_nodes) == 1:\n",
    "        return G1\n",
    "\n",
    "    G1.add_node('*')\n",
    "    arb_edge_list = [('*', v) for v in head_nodes]\n",
    "    G1.add_edges_from(arb_edge_list)\n",
    "    return G1"
   ]
  },
  {
   "cell_type": "code",
   "execution_count": 6,
   "id": "5ffbe03a-619a-4f90-a0ea-521fbc21452c",
   "metadata": {},
   "outputs": [],
   "source": [
    "# Determines a spanning arborescence for an unweighted directed graph G - must be acyclic with a unique vertex of in-degree 0\n",
    "def spanning_arborescence(G):\n",
    "    if not (nx.is_directed_acyclic_graph(G) and len(initial_nodes(G)) == 1):\n",
    "        print(\"The directed graph must be an arborescence.\")\n",
    "        return\n",
    "\n",
    "    root = initial_nodes(G)[0]\n",
    "    undiscovered_nodes = list(G.nodes)\n",
    "    undiscovered_nodes.remove(root)\n",
    "    current_node_layer = [root]\n",
    "    spanning_arb_edges = []\n",
    "\n",
    "    while len(current_node_layer) > 0:\n",
    "        # Construct the next node layer using only undiscovered neighbors of the nodes in current_node_layer\n",
    "        new_nodes = []\n",
    "        for n in current_node_layer:\n",
    "            neighbors = list(nx.neighbors(G,n))\n",
    "            neighbors = list(filter(lambda s: s in undiscovered_nodes, neighbors))\n",
    "\n",
    "            for s in neighbors:\n",
    "                new_nodes.append(s)\n",
    "                spanning_arb_edges.append((n,s))\n",
    "                undiscovered_nodes.remove(s)\n",
    "        current_node_layer = new_nodes.copy()\n",
    "\n",
    "    spanning_arb = nx.DiGraph(spanning_arb_edges)\n",
    "    return spanning_arb    "
   ]
  },
  {
   "cell_type": "code",
   "execution_count": null,
   "id": "4582509e-0a0d-4380-b5e1-fd173a972c68",
   "metadata": {},
   "outputs": [],
   "source": []
  },
  {
   "cell_type": "code",
   "execution_count": null,
   "id": "cb476241-7abe-408e-89d7-efc721fd124e",
   "metadata": {},
   "outputs": [],
   "source": [
    "G = nx.DiGraph()\n",
    "G.add_edges_from([(1,2),(1,3),(2,4),(3,4),(5,6),(6,7),(7,4)])"
   ]
  },
  {
   "cell_type": "code",
   "execution_count": 7,
   "id": "9da57106-7ac2-484c-b3ab-ce262d597c35",
   "metadata": {},
   "outputs": [],
   "source": [
    "H = augmented_DAG_by_root(G)"
   ]
  },
  {
   "cell_type": "code",
   "execution_count": 16,
   "id": "af60110a-b8c5-4fd0-a2d4-e435a6bb7660",
   "metadata": {},
   "outputs": [
    {
     "data": {
      "text/plain": [
       "[(1, 2), (1, 3), (2, 4), (3, 4), (5, 6), (6, 7), (7, 4), ('*', 1), ('*', 5)]"
      ]
     },
     "execution_count": 16,
     "metadata": {},
     "output_type": "execute_result"
    }
   ],
   "source": [
    "list(H.edges)"
   ]
  },
  {
   "cell_type": "code",
   "execution_count": 13,
   "id": "72b65647-168a-493f-a9f6-82704a3ad759",
   "metadata": {},
   "outputs": [],
   "source": [
    "K = spanning_arborescence(H)"
   ]
  },
  {
   "cell_type": "code",
   "execution_count": 15,
   "id": "c56c4209-faac-43fc-b0b3-ed1b52bb71d5",
   "metadata": {},
   "outputs": [
    {
     "data": {
      "text/plain": [
       "[('*', 1), ('*', 5), (1, 2), (1, 3), (5, 6), (2, 4), (6, 7)]"
      ]
     },
     "execution_count": 15,
     "metadata": {},
     "output_type": "execute_result"
    }
   ],
   "source": [
    "list(K.edges)"
   ]
  },
  {
   "cell_type": "code",
   "execution_count": null,
   "id": "9268f249-0a91-4595-ba23-f15fd76caba4",
   "metadata": {},
   "outputs": [],
   "source": []
  }
 ],
 "metadata": {
  "kernelspec": {
   "display_name": "Python 3 (ipykernel)",
   "language": "python",
   "name": "python3"
  },
  "language_info": {
   "codemirror_mode": {
    "name": "ipython",
    "version": 3
   },
   "file_extension": ".py",
   "mimetype": "text/x-python",
   "name": "python",
   "nbconvert_exporter": "python",
   "pygments_lexer": "ipython3",
   "version": "3.12.7"
  }
 },
 "nbformat": 4,
 "nbformat_minor": 5
}
