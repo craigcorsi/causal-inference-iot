{
 "cells": [
  {
   "cell_type": "code",
   "execution_count": 1,
   "id": "0d4d434c-c7a5-47d0-9e5d-a089ec92382d",
   "metadata": {},
   "outputs": [],
   "source": [
    "import json\n",
    "\n",
    "import pandas as pd\n",
    "import numpy as np\n",
    "\n",
    "import networkx as nx\n",
    "from graph_encoders import *\n",
    "\n",
    "from linear_algebra_utils import *\n",
    "\n",
    "from sklearn.linear_model import LinearRegression"
   ]
  },
  {
   "cell_type": "code",
   "execution_count": 2,
   "id": "bbed36b2-80a3-4856-af2b-ae3814874da9",
   "metadata": {},
   "outputs": [],
   "source": [
    "X_train = pd.read_csv('../data/crop_mapping/node_reduced_train.csv')\n",
    "X_test = pd.read_csv('../data/crop_mapping/node_reduced_test.csv')\n",
    "\n",
    "with open('../data/crop_mapping/reduced_nodes.json', 'r') as file:\n",
    "    nodes = json.load(file)"
   ]
  },
  {
   "cell_type": "code",
   "execution_count": 4,
   "id": "cc17f120-0d06-4e13-b3cb-751fb410b505",
   "metadata": {},
   "outputs": [],
   "source": [
    "node_labels = list(nodes.keys())"
   ]
  },
  {
   "cell_type": "code",
   "execution_count": 5,
   "id": "9135d1b6-63cc-4ed9-b893-93c895e25e8d",
   "metadata": {},
   "outputs": [],
   "source": [
    "# This is a placeholder graph to replace the graph structure obtained from a causal discovery algorithm.\n",
    "# It does not describe any heuristics for expert knowledge in polarimetry/optics.\n",
    "Q = nx.DiGraph()\n",
    "Q.add_nodes_from(node_labels)\n",
    "Q.add_edges_from([\n",
    "    ('sig','R'), ('R','PH'), ('PH','rvi'),\n",
    "    ('paul','RGB'), ('paul','krog'), ('RGB','yam'), ('krog', 'yam'),\n",
    "    ('HA','free'), ('L','free')\n",
    "])"
   ]
  },
  {
   "cell_type": "code",
   "execution_count": 6,
   "id": "baa18dc0-fb48-4ae0-930e-0430d3fc868e",
   "metadata": {},
   "outputs": [],
   "source": [
    "dimensions = {k: len(nodes[k]) for k in node_labels}\n",
    "bases = construct_standard_bases(dimensions)\n",
    "\n",
    "nx.set_node_attributes(Q,dimensions,'dimension')\n",
    "nx.set_node_attributes(Q,bases,'basis')"
   ]
  },
  {
   "cell_type": "code",
   "execution_count": 7,
   "id": "251f48b0-2aa0-4125-8c8e-59efccfbfec8",
   "metadata": {},
   "outputs": [],
   "source": [
    "# Determine representation maps by fitting linear maps at each edge of the quiver\n",
    "rep_maps={}\n",
    "for e in list(Q.edges):\n",
    "    rep_map = []\n",
    "    X_1 = X_train[nodes[e[0]]]\n",
    "    X_2 = X_train[nodes[e[1]]]\n",
    "\n",
    "    for i in range(len(list(X_2.columns))):\n",
    "        y = X_2.iloc[:,i]\n",
    "        model = LinearRegression(fit_intercept=False)\n",
    "        model.fit(X_1,y)\n",
    "        rep_map.append(model.coef_)\n",
    "    \n",
    "    rep_map = np.array(rep_map)\n",
    "    rep_maps[e] = rep_map\n",
    "nx.set_edge_attributes(Q,rep_maps,'rep map')"
   ]
  },
  {
   "cell_type": "code",
   "execution_count": 8,
   "id": "e60ac3f6-485e-4828-a8bc-f81f3cfca0e3",
   "metadata": {},
   "outputs": [],
   "source": [
    "with open('../data/crop_mapping/quiver_representation.json', 'w') as file:\n",
    "    json.dump(\n",
    "        Q, file,\n",
    "        cls=NetworkXQuiverRepresentationEncoder\n",
    "    )"
   ]
  },
  {
   "cell_type": "code",
   "execution_count": null,
   "id": "2ed57d0e-2c3c-490c-af83-91ebccc7b8a8",
   "metadata": {},
   "outputs": [],
   "source": []
  }
 ],
 "metadata": {
  "kernelspec": {
   "display_name": "Python 3 (ipykernel)",
   "language": "python",
   "name": "python3"
  },
  "language_info": {
   "codemirror_mode": {
    "name": "ipython",
    "version": 3
   },
   "file_extension": ".py",
   "mimetype": "text/x-python",
   "name": "python",
   "nbconvert_exporter": "python",
   "pygments_lexer": "ipython3",
   "version": "3.12.7"
  }
 },
 "nbformat": 4,
 "nbformat_minor": 5
}
