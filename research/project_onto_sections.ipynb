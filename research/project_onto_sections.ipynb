{
 "cells": [
  {
   "cell_type": "code",
   "execution_count": 1,
   "id": "b27a95de-7417-4288-b9f2-e51ff5954faf",
   "metadata": {},
   "outputs": [],
   "source": [
    "import json\n",
    "\n",
    "import pandas as pd\n",
    "import numpy as np\n",
    "\n",
    "import networkx as nx\n",
    "from graph_encoders import *\n",
    "\n",
    "from linear_algebra_utils import *\n",
    "from digraph_algorithms import *\n",
    "from quiver_pca import *"
   ]
  },
  {
   "cell_type": "code",
   "execution_count": 2,
   "id": "62358a7c-a5a3-4147-8da3-b3918d93a3fb",
   "metadata": {},
   "outputs": [],
   "source": [
    "X_train = pd.read_csv('../data/crop_mapping/node_reduced_train.csv')\n",
    "X_test = pd.read_csv('../data/crop_mapping/node_reduced_test.csv')\n",
    "\n",
    "with open('../data/crop_mapping/quiver_representation.json', 'r') as file:\n",
    "    Q = json.load(file, cls=NetworkXQuiverRepresentationDecoder)\n",
    "\n",
    "with open('../data/crop_mapping/reduced_nodes.json', 'r') as file:\n",
    "    Q_nodes = json.load(file)"
   ]
  },
  {
   "cell_type": "code",
   "execution_count": 3,
   "id": "8e6ac63d-d973-464c-8354-445e9bbd25ef",
   "metadata": {},
   "outputs": [],
   "source": [
    "# Augment quiver with root vertex and generate space of sections\n",
    "Qplus = augment_DAG_with_root(Q)\n",
    "generate_space_of_sections(Qplus)"
   ]
  },
  {
   "cell_type": "code",
   "execution_count": 4,
   "id": "44e87a3e-00a5-44d8-ab6f-f9258572839b",
   "metadata": {},
   "outputs": [],
   "source": [
    "# Generate orthonormal basis for the space of sections\n",
    "sections = Qplus.graph['sections']\n",
    "normalized_sections = orthogonalize_section_basis(sections, Q_nodes)"
   ]
  },
  {
   "cell_type": "code",
   "execution_count": 5,
   "id": "00d5d44f-391e-43ed-abfc-df2d4bb90ee5",
   "metadata": {},
   "outputs": [],
   "source": [
    "# Project onto orthonormal basis of sections, in the section basis' coordinates\n",
    "X_train_proj = [project_onto_subspace(X_train.iloc[i], normalized_sections) for i in range(len(X_train))]\n",
    "X_train_proj = pd.concat(X_train_proj, axis=1).T\n",
    "X_test_proj = [project_onto_subspace(X_test.iloc[i], normalized_sections) for i in range(len(X_test))]\n",
    "X_test_proj = pd.concat(X_test_proj, axis=1).T"
   ]
  },
  {
   "cell_type": "code",
   "execution_count": 6,
   "id": "2a0cfd0f-b9be-4b36-a296-7ddc4c17f45d",
   "metadata": {},
   "outputs": [],
   "source": [
    "Q_cols = ['Q1_' + str(i) for i in range(len(normalized_sections))]\n",
    "X_train_proj.columns = Q_cols\n",
    "X_test_proj.columns = Q_cols"
   ]
  },
  {
   "cell_type": "code",
   "execution_count": 7,
   "id": "71800ca9-50a4-4ba1-b880-fadb64debde1",
   "metadata": {},
   "outputs": [
    {
     "data": {
      "text/html": [
       "<div>\n",
       "<style scoped>\n",
       "    .dataframe tbody tr th:only-of-type {\n",
       "        vertical-align: middle;\n",
       "    }\n",
       "\n",
       "    .dataframe tbody tr th {\n",
       "        vertical-align: top;\n",
       "    }\n",
       "\n",
       "    .dataframe thead th {\n",
       "        text-align: right;\n",
       "    }\n",
       "</style>\n",
       "<table border=\"1\" class=\"dataframe\">\n",
       "  <thead>\n",
       "    <tr style=\"text-align: right;\">\n",
       "      <th></th>\n",
       "      <th>Q1_0</th>\n",
       "      <th>Q1_1</th>\n",
       "      <th>Q1_2</th>\n",
       "      <th>Q1_3</th>\n",
       "      <th>Q1_4</th>\n",
       "      <th>Q1_5</th>\n",
       "      <th>Q1_6</th>\n",
       "      <th>Q1_7</th>\n",
       "      <th>Q1_8</th>\n",
       "    </tr>\n",
       "  </thead>\n",
       "  <tbody>\n",
       "    <tr>\n",
       "      <th>0</th>\n",
       "      <td>3.986259</td>\n",
       "      <td>-2.237170</td>\n",
       "      <td>-6.853211</td>\n",
       "      <td>6.399514</td>\n",
       "      <td>2.610451</td>\n",
       "      <td>-5.483664</td>\n",
       "      <td>-2.580249</td>\n",
       "      <td>-1.310271</td>\n",
       "      <td>-3.664420</td>\n",
       "    </tr>\n",
       "    <tr>\n",
       "      <th>1</th>\n",
       "      <td>2.505083</td>\n",
       "      <td>-1.512982</td>\n",
       "      <td>-6.095646</td>\n",
       "      <td>4.446712</td>\n",
       "      <td>2.930806</td>\n",
       "      <td>-4.792045</td>\n",
       "      <td>-0.931142</td>\n",
       "      <td>-2.199914</td>\n",
       "      <td>-3.848712</td>\n",
       "    </tr>\n",
       "    <tr>\n",
       "      <th>2</th>\n",
       "      <td>2.711012</td>\n",
       "      <td>-2.366670</td>\n",
       "      <td>-5.482358</td>\n",
       "      <td>4.512390</td>\n",
       "      <td>2.845891</td>\n",
       "      <td>-4.484513</td>\n",
       "      <td>-1.001577</td>\n",
       "      <td>-1.853035</td>\n",
       "      <td>-3.140195</td>\n",
       "    </tr>\n",
       "    <tr>\n",
       "      <th>3</th>\n",
       "      <td>2.551358</td>\n",
       "      <td>-0.886571</td>\n",
       "      <td>-6.754687</td>\n",
       "      <td>4.604886</td>\n",
       "      <td>3.054138</td>\n",
       "      <td>-5.490920</td>\n",
       "      <td>-1.208640</td>\n",
       "      <td>-2.650506</td>\n",
       "      <td>-4.509557</td>\n",
       "    </tr>\n",
       "    <tr>\n",
       "      <th>4</th>\n",
       "      <td>2.802179</td>\n",
       "      <td>-1.278422</td>\n",
       "      <td>-4.658371</td>\n",
       "      <td>4.025560</td>\n",
       "      <td>2.494252</td>\n",
       "      <td>-3.935713</td>\n",
       "      <td>-0.944215</td>\n",
       "      <td>-1.478768</td>\n",
       "      <td>-2.480393</td>\n",
       "    </tr>\n",
       "  </tbody>\n",
       "</table>\n",
       "</div>"
      ],
      "text/plain": [
       "       Q1_0      Q1_1      Q1_2      Q1_3      Q1_4      Q1_5      Q1_6  \\\n",
       "0  3.986259 -2.237170 -6.853211  6.399514  2.610451 -5.483664 -2.580249   \n",
       "1  2.505083 -1.512982 -6.095646  4.446712  2.930806 -4.792045 -0.931142   \n",
       "2  2.711012 -2.366670 -5.482358  4.512390  2.845891 -4.484513 -1.001577   \n",
       "3  2.551358 -0.886571 -6.754687  4.604886  3.054138 -5.490920 -1.208640   \n",
       "4  2.802179 -1.278422 -4.658371  4.025560  2.494252 -3.935713 -0.944215   \n",
       "\n",
       "       Q1_7      Q1_8  \n",
       "0 -1.310271 -3.664420  \n",
       "1 -2.199914 -3.848712  \n",
       "2 -1.853035 -3.140195  \n",
       "3 -2.650506 -4.509557  \n",
       "4 -1.478768 -2.480393  "
      ]
     },
     "execution_count": 7,
     "metadata": {},
     "output_type": "execute_result"
    }
   ],
   "source": [
    "X_train_proj.head()"
   ]
  },
  {
   "cell_type": "code",
   "execution_count": 8,
   "id": "b038bfd2-3531-4ea1-873c-46c8d805afb8",
   "metadata": {},
   "outputs": [],
   "source": [
    "X_train_proj.to_csv('../data/crop_mapping/quiver_invariant_train.csv', mode='w', index=False)\n",
    "X_test_proj.to_csv('../data/crop_mapping/quiver_invariant_test.csv', mode='w', index=False)"
   ]
  }
 ],
 "metadata": {
  "kernelspec": {
   "display_name": "Python 3 (ipykernel)",
   "language": "python",
   "name": "python3"
  },
  "language_info": {
   "codemirror_mode": {
    "name": "ipython",
    "version": 3
   },
   "file_extension": ".py",
   "mimetype": "text/x-python",
   "name": "python",
   "nbconvert_exporter": "python",
   "pygments_lexer": "ipython3",
   "version": "3.12.7"
  }
 },
 "nbformat": 4,
 "nbformat_minor": 5
}
