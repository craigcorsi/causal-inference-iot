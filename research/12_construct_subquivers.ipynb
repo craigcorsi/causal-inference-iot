{
 "cells": [
  {
   "cell_type": "code",
   "execution_count": 1,
   "id": "9bcdf0a2-b1f8-462a-8d9e-6ac130874ecb",
   "metadata": {},
   "outputs": [],
   "source": [
    "import os\n",
    "import json\n",
    "\n",
    "import pandas as pd\n",
    "import numpy as np\n",
    "\n",
    "import networkx as nx\n",
    "from graph_encoders import *\n",
    "\n",
    "from quiver_constructors import *"
   ]
  },
  {
   "cell_type": "code",
   "execution_count": 2,
   "id": "0383b739-75d0-4090-ac65-6f935f567174",
   "metadata": {},
   "outputs": [],
   "source": [
    "X_train = pd.read_csv('../data/crop_mapping/nodewise_PCA_train.csv')\n",
    "\n",
    "with open('../data/crop_mapping/reduced_nodes.json', 'r') as file:\n",
    "    node_columns = json.load(file)\n",
    "\n",
    "with open('../data/crop_mapping/edge_maps.json', 'r') as file:\n",
    "    edge_maps = json.load(file, cls=EdgeMatrixDecoder)"
   ]
  },
  {
   "cell_type": "code",
   "execution_count": 3,
   "id": "d30ef570-7b94-4764-bef3-649d93b71dd7",
   "metadata": {},
   "outputs": [
    {
     "name": "stdout",
     "output_type": "stream",
     "text": [
      "Generating quiver Q00!\n",
      "('sig', 'rvi') to layer 1\n",
      "('sig', 'free') to layer 1\n",
      "('Ro', 'sig') to layer -1\n",
      "('HA', 'Ro') to layer -2\n",
      "('paul', 'HA') to layer -3\n",
      "('L', 'paul') to layer -4\n",
      "Generating quiver Q01!\n",
      "('R', 'rvi') to layer 1\n",
      "('rvi', 'PH') to layer 2\n",
      "('HA', 'R') to layer -1\n",
      "('paul', 'HA') to layer -2\n",
      "('L', 'R') to layer -1\n",
      "('Ro', 'L') to layer -2\n",
      "Generating quiver Q02!\n",
      "('Ro', 'PH') to layer 1\n",
      "('PH', 'rvi') to layer 2\n",
      "('rvi', 'free') to layer 3\n",
      "('L', 'Ro') to layer -1\n",
      "('HA', 'L') to layer -2\n",
      "('rvi', 'yam') to layer 3\n",
      "Generating quiver Q03!\n",
      "('L', 'PH') to layer 1\n",
      "('L', 'yam') to layer 1\n",
      "('yam', 'free') to layer 2\n",
      "('PH', 'rvi') to layer 2\n",
      "('yam', 'sig') to layer 2\n",
      "('L', 'krog') to layer 1\n",
      "Generating quiver Q04!\n",
      "('HA', 'yam') to layer 1\n",
      "('yam', 'free') to layer 2\n",
      "('free', 'PH') to layer 3\n",
      "('yam', 'rvi') to layer 2\n",
      "('rvi', 'sig') to layer 3\n",
      "('rvi', 'L') to layer 3\n",
      "Generating quiver Q05!\n",
      "('paul', 'PH') to layer -1\n",
      "('L', 'paul') to layer -2\n",
      "('HA', 'paul') to layer -2\n",
      "('Ro', 'paul') to layer -2\n",
      "('R', 'L') to layer -3\n",
      "('sig', 'R') to layer -4\n",
      "Generating quiver Q06!\n",
      "('paul', 'rvi') to layer -1\n",
      "('L', 'paul') to layer -2\n",
      "('Ro', 'L') to layer -3\n",
      "('sig', 'L') to layer -3\n",
      "('HA', 'sig') to layer -4\n",
      "('R', 'paul') to layer -2\n",
      "Generating quiver Q07!\n",
      "('paul', 'rvi') to layer 1\n",
      "('paul', 'PH') to layer 1\n",
      "('paul', 'yam') to layer 1\n",
      "('yam', 'free') to layer 2\n",
      "('rvi', 'R') to layer 2\n",
      "('paul', 'Ro') to layer 1\n",
      "Generating quiver Q08!\n",
      "('L', 'krog') to layer -1\n",
      "('paul', 'L') to layer -2\n",
      "('HA', 'paul') to layer -3\n",
      "('Ro', 'L') to layer -2\n",
      "('krog', 'free') to layer 1\n",
      "('free', 'yam') to layer 2\n",
      "Generating quiver Q09!\n",
      "('L', 'free') to layer -1\n",
      "('paul', 'L') to layer -2\n",
      "('krog', 'free') to layer -1\n",
      "('HA', 'krog') to layer -2\n",
      "('Ro', 'free') to layer -1\n",
      "('sig', 'L') to layer -2\n",
      "Generating quiver Q10!\n",
      "('paul', 'yam') to layer -1\n",
      "('L', 'paul') to layer -2\n",
      "('krog', 'paul') to layer -2\n",
      "('HA', 'krog') to layer -3\n",
      "('Ro', 'paul') to layer -2\n",
      "('sig', 'yam') to layer -1\n"
     ]
    }
   ],
   "source": [
    "# Dynamically generate quiver representations based on comparisons between node data\n",
    "quiver_reps = []\n",
    "for i in range(len(node_columns.keys())):\n",
    "    quiver_reps.append(\n",
    "        DataQuiverConstructor(\n",
    "            X_train, node_columns, edge_maps, ref_index=i, build_direction='incoming-outgoing', node_limit=7\n",
    "        ).quiver\n",
    "    )"
   ]
  },
  {
   "cell_type": "code",
   "execution_count": 4,
   "id": "1de2b2df-103f-4c6b-a70c-cf4ac4fb8c8b",
   "metadata": {},
   "outputs": [],
   "source": [
    "if not os.path.exists(\"../data/crop_mapping/quiver_reps\"):\n",
    "    os.mkdir(\"../data/crop_mapping/quiver_reps\")\n",
    "    \n",
    "for i in range(len(quiver_reps)):\n",
    "    with open(f\"../data/crop_mapping/quiver_reps/q{i:02}.json\", \"w\") as file:\n",
    "        json.dump(\n",
    "            quiver_reps[i], file,\n",
    "            cls=NetworkXQuiverRepresentationEncoder\n",
    "        )"
   ]
  },
  {
   "cell_type": "code",
   "execution_count": null,
   "id": "adf82ced-3a70-4d26-80b9-072998b2f999",
   "metadata": {},
   "outputs": [],
   "source": []
  }
 ],
 "metadata": {
  "kernelspec": {
   "display_name": "Python 3 (ipykernel)",
   "language": "python",
   "name": "python3"
  },
  "language_info": {
   "codemirror_mode": {
    "name": "ipython",
    "version": 3
   },
   "file_extension": ".py",
   "mimetype": "text/x-python",
   "name": "python",
   "nbconvert_exporter": "python",
   "pygments_lexer": "ipython3",
   "version": "3.12.7"
  }
 },
 "nbformat": 4,
 "nbformat_minor": 5
}
