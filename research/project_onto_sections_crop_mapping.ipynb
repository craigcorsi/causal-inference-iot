{
 "cells": [
  {
   "cell_type": "code",
   "execution_count": 1,
   "id": "b27a95de-7417-4288-b9f2-e51ff5954faf",
   "metadata": {},
   "outputs": [],
   "source": [
    "import json\n",
    "\n",
    "import pandas as pd\n",
    "import numpy as np\n",
    "\n",
    "import networkx as nx\n",
    "from graph_encoders import *\n",
    "\n",
    "from linear_algebra_utils import *\n",
    "from digraph_algorithms import *\n",
    "from quiver_pca import *"
   ]
  },
  {
   "cell_type": "code",
   "execution_count": 2,
   "id": "62358a7c-a5a3-4147-8da3-b3918d93a3fb",
   "metadata": {},
   "outputs": [],
   "source": [
    "X_train = pd.read_csv('../data/crop_mapping/node_reduced_train.csv')\n",
    "X_test = pd.read_csv('../data/crop_mapping/node_reduced_test.csv')\n",
    "\n",
    "with open('../data/crop_mapping/quiver_representation.json', 'r') as file:\n",
    "    Q = json.load(file, cls=NetworkXQuiverRepresentationDecoder)\n",
    "\n",
    "with open('../data/crop_mapping/reduced_nodes.json', 'r') as file:\n",
    "    Q_nodes = json.load(file)"
   ]
  },
  {
   "cell_type": "code",
   "execution_count": 4,
   "id": "8e6ac63d-d973-464c-8354-445e9bbd25ef",
   "metadata": {},
   "outputs": [],
   "source": [
    "# AUgment quiver with root vertex and generate space of sections\n",
    "Qplus = augment_DAG_with_root(Q)\n",
    "generate_space_of_sections(Qplus)"
   ]
  },
  {
   "cell_type": "code",
   "execution_count": 5,
   "id": "44e87a3e-00a5-44d8-ab6f-f9258572839b",
   "metadata": {},
   "outputs": [],
   "source": [
    "# Generate orthonormal basis for the space of sections\n",
    "sections = Qplus.graph['sections']\n",
    "normalized_sections = orthogonalize_section_basis(sections, Q_nodes)"
   ]
  },
  {
   "cell_type": "code",
   "execution_count": 7,
   "id": "9dc21568-732a-4327-ab43-20ea00fc61bf",
   "metadata": {},
   "outputs": [
    {
     "data": {
      "text/plain": [
       "[[1.0, -0.0, 0.0, -0.0, 0.0, 0.0, -0.0, 0.0, -0.0],\n",
       " [-0.0, 1.0, -0.0, -0.0, 0.0, -0.0, -0.0, 0.0, -0.0],\n",
       " [0.0, -0.0, 1.0, 0.0, 0.0, -0.0, -0.0, -0.0, -0.0],\n",
       " [-0.0, -0.0, 0.0, 1.0, 0.0, 0.0, -0.0, -0.0, -0.0],\n",
       " [0.0, 0.0, 0.0, 0.0, 1.0, -0.0, 0.0, -0.0, 0.0],\n",
       " [0.0, -0.0, -0.0, 0.0, -0.0, 1.0, -0.0, -0.0, -0.0],\n",
       " [-0.0, -0.0, -0.0, -0.0, 0.0, -0.0, 1.0, 0.0, -0.0],\n",
       " [0.0, 0.0, -0.0, -0.0, -0.0, -0.0, 0.0, 1.0, -0.0],\n",
       " [-0.0, -0.0, -0.0, -0.0, 0.0, -0.0, -0.0, -0.0, 1.0]]"
      ]
     },
     "execution_count": 7,
     "metadata": {},
     "output_type": "execute_result"
    }
   ],
   "source": [
    "# Check that the sections are orthogonal\n",
    "[[float(np.round(a.reshape(-1).dot(b.reshape(-1)), 1)) for a in normalized_sections] for b in normalized_sections]"
   ]
  },
  {
   "cell_type": "code",
   "execution_count": 8,
   "id": "00d5d44f-391e-43ed-abfc-df2d4bb90ee5",
   "metadata": {},
   "outputs": [],
   "source": [
    "# Project onto orthonormal basis of sections, in the section basis' coordinates\n",
    "X_train_proj = [project_onto_subspace(X_train.iloc[i], normalized_sections) for i in range(len(X_train))]\n",
    "X_train_proj = pd.concat(X_train_proj, axis=1).T\n",
    "X_test_proj = [project_onto_subspace(X_test.iloc[i], normalized_sections) for i in range(len(X_test))]\n",
    "X_test_proj = pd.concat(X_test_proj, axis=1).T"
   ]
  },
  {
   "cell_type": "code",
   "execution_count": 9,
   "id": "2a0cfd0f-b9be-4b36-a296-7ddc4c17f45d",
   "metadata": {},
   "outputs": [],
   "source": [
    "Q_cols = ['Q1_' + str(i) for i in range(len(normalized_sections))]\n",
    "X_train_proj.columns = Q_cols\n",
    "X_test_proj.columns = Q_cols"
   ]
  },
  {
   "cell_type": "code",
   "execution_count": 11,
   "id": "71800ca9-50a4-4ba1-b880-fadb64debde1",
   "metadata": {},
   "outputs": [
    {
     "data": {
      "text/html": [
       "<div>\n",
       "<style scoped>\n",
       "    .dataframe tbody tr th:only-of-type {\n",
       "        vertical-align: middle;\n",
       "    }\n",
       "\n",
       "    .dataframe tbody tr th {\n",
       "        vertical-align: top;\n",
       "    }\n",
       "\n",
       "    .dataframe thead th {\n",
       "        text-align: right;\n",
       "    }\n",
       "</style>\n",
       "<table border=\"1\" class=\"dataframe\">\n",
       "  <thead>\n",
       "    <tr style=\"text-align: right;\">\n",
       "      <th></th>\n",
       "      <th>Q1_0</th>\n",
       "      <th>Q1_1</th>\n",
       "      <th>Q1_2</th>\n",
       "      <th>Q1_3</th>\n",
       "      <th>Q1_4</th>\n",
       "      <th>Q1_5</th>\n",
       "      <th>Q1_6</th>\n",
       "      <th>Q1_7</th>\n",
       "      <th>Q1_8</th>\n",
       "    </tr>\n",
       "  </thead>\n",
       "  <tbody>\n",
       "    <tr>\n",
       "      <th>0</th>\n",
       "      <td>0.969148</td>\n",
       "      <td>-0.981289</td>\n",
       "      <td>0.259957</td>\n",
       "      <td>2.119393</td>\n",
       "      <td>0.159360</td>\n",
       "      <td>-0.441277</td>\n",
       "      <td>-0.167317</td>\n",
       "      <td>0.947974</td>\n",
       "      <td>0.524210</td>\n",
       "    </tr>\n",
       "    <tr>\n",
       "      <th>1</th>\n",
       "      <td>-1.191991</td>\n",
       "      <td>-0.800139</td>\n",
       "      <td>1.348693</td>\n",
       "      <td>2.880147</td>\n",
       "      <td>-0.514214</td>\n",
       "      <td>-0.537201</td>\n",
       "      <td>0.539185</td>\n",
       "      <td>-1.276819</td>\n",
       "      <td>0.153182</td>\n",
       "    </tr>\n",
       "    <tr>\n",
       "      <th>2</th>\n",
       "      <td>-1.625763</td>\n",
       "      <td>1.478058</td>\n",
       "      <td>-1.139027</td>\n",
       "      <td>-0.075620</td>\n",
       "      <td>0.490800</td>\n",
       "      <td>-0.671859</td>\n",
       "      <td>0.581867</td>\n",
       "      <td>-0.081676</td>\n",
       "      <td>-0.232386</td>\n",
       "    </tr>\n",
       "    <tr>\n",
       "      <th>3</th>\n",
       "      <td>2.239337</td>\n",
       "      <td>0.527406</td>\n",
       "      <td>1.256352</td>\n",
       "      <td>-0.328381</td>\n",
       "      <td>-1.223439</td>\n",
       "      <td>1.641494</td>\n",
       "      <td>-1.120455</td>\n",
       "      <td>0.766963</td>\n",
       "      <td>0.221125</td>\n",
       "    </tr>\n",
       "    <tr>\n",
       "      <th>4</th>\n",
       "      <td>0.978996</td>\n",
       "      <td>-0.681845</td>\n",
       "      <td>1.901411</td>\n",
       "      <td>-0.297084</td>\n",
       "      <td>-0.949661</td>\n",
       "      <td>1.015061</td>\n",
       "      <td>-0.190105</td>\n",
       "      <td>-0.488830</td>\n",
       "      <td>-0.269128</td>\n",
       "    </tr>\n",
       "  </tbody>\n",
       "</table>\n",
       "</div>"
      ],
      "text/plain": [
       "       Q1_0      Q1_1      Q1_2      Q1_3      Q1_4      Q1_5      Q1_6  \\\n",
       "0  0.969148 -0.981289  0.259957  2.119393  0.159360 -0.441277 -0.167317   \n",
       "1 -1.191991 -0.800139  1.348693  2.880147 -0.514214 -0.537201  0.539185   \n",
       "2 -1.625763  1.478058 -1.139027 -0.075620  0.490800 -0.671859  0.581867   \n",
       "3  2.239337  0.527406  1.256352 -0.328381 -1.223439  1.641494 -1.120455   \n",
       "4  0.978996 -0.681845  1.901411 -0.297084 -0.949661  1.015061 -0.190105   \n",
       "\n",
       "       Q1_7      Q1_8  \n",
       "0  0.947974  0.524210  \n",
       "1 -1.276819  0.153182  \n",
       "2 -0.081676 -0.232386  \n",
       "3  0.766963  0.221125  \n",
       "4 -0.488830 -0.269128  "
      ]
     },
     "execution_count": 11,
     "metadata": {},
     "output_type": "execute_result"
    }
   ],
   "source": [
    "X_train_proj.head()"
   ]
  },
  {
   "cell_type": "code",
   "execution_count": 12,
   "id": "b038bfd2-3531-4ea1-873c-46c8d805afb8",
   "metadata": {},
   "outputs": [],
   "source": [
    "X_train_proj.to_csv('../data/crop_mapping/quiver_invariant_train.csv', mode='w', index=False)\n",
    "X_test_proj.to_csv('../data/crop_mapping/quiver_invariant_test.csv', mode='w', index=False)"
   ]
  },
  {
   "cell_type": "code",
   "execution_count": null,
   "id": "9d48046d-4234-4016-a1ea-879470a6bdf7",
   "metadata": {},
   "outputs": [],
   "source": []
  }
 ],
 "metadata": {
  "kernelspec": {
   "display_name": "Python 3 (ipykernel)",
   "language": "python",
   "name": "python3"
  },
  "language_info": {
   "codemirror_mode": {
    "name": "ipython",
    "version": 3
   },
   "file_extension": ".py",
   "mimetype": "text/x-python",
   "name": "python",
   "nbconvert_exporter": "python",
   "pygments_lexer": "ipython3",
   "version": "3.12.7"
  }
 },
 "nbformat": 4,
 "nbformat_minor": 5
}
