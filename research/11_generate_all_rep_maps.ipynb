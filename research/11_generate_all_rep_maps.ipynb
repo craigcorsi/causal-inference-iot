{
 "cells": [
  {
   "cell_type": "code",
   "execution_count": 1,
   "id": "cc172a60-0d93-4380-8dfe-c3a7a319c42e",
   "metadata": {},
   "outputs": [],
   "source": [
    "import json\n",
    "\n",
    "import pandas as pd\n",
    "import numpy as np\n",
    "\n",
    "import networkx as nx\n",
    "from graph_encoders import *\n",
    "\n",
    "from sklearn.model_selection import KFold\n",
    "from sklearn.linear_model import LinearRegression"
   ]
  },
  {
   "cell_type": "code",
   "execution_count": 2,
   "id": "f5a89f37-38fe-4200-aa53-5c8d235316eb",
   "metadata": {},
   "outputs": [],
   "source": [
    "X_train = pd.read_csv('../data/crop_mapping/nodewise_PCA_train.csv')\n",
    "X_test = pd.read_csv('../data/crop_mapping/nodewise_PCA_test.csv')\n",
    "\n",
    "with open('../data/crop_mapping/reduced_nodes.json', 'r') as file:\n",
    "    nodes = json.load(file)"
   ]
  },
  {
   "cell_type": "code",
   "execution_count": 3,
   "id": "2d4b4175-646b-459c-aa96-8baef516ff05",
   "metadata": {},
   "outputs": [],
   "source": [
    "node_labels = list(nodes.keys())"
   ]
  },
  {
   "cell_type": "code",
   "execution_count": 4,
   "id": "cf268bad-7223-4954-810a-049f1d04d1fc",
   "metadata": {},
   "outputs": [],
   "source": [
    "k = 5\n",
    "kfold = KFold(n_splits = k,\n",
    "              shuffle = True,\n",
    "              random_state = 12345)"
   ]
  },
  {
   "cell_type": "code",
   "execution_count": 5,
   "id": "c291e7a3-7d88-432b-b5ee-f47af384e066",
   "metadata": {},
   "outputs": [],
   "source": [
    "# Determine representation maps by fitting linear maps between each pair of nodes\n",
    "all_rep_maps = {node: {} for node in node_labels}\n",
    "for head in node_labels:\n",
    "    tails = (node for node in node_labels if node != head)\n",
    "    for tail in tails:   \n",
    "        rep_maps = [[] for a in range(k)]\n",
    "        X_1 = X_train[nodes[head]]\n",
    "        X_2 = X_train[nodes[tail]]\n",
    "        kfold.split(X_1)\n",
    "\n",
    "        for j, (train_index, test_index) in enumerate(kfold.split(X_train)):\n",
    "            X_1_train_train = X_1.iloc[train_index,:]\n",
    "            X_2_train_train = X_2.iloc[train_index]\n",
    "            X_1_holdout = X_1.iloc[test_index,:].to_numpy()\n",
    "            X_2_holdout = X_2.iloc[test_index].to_numpy()\n",
    "        \n",
    "            for i in range(len(list(X_2.columns))):\n",
    "                y = X_2_train_train.iloc[:,i]\n",
    "                model = LinearRegression(fit_intercept=False)\n",
    "                model.fit(X_1_train_train,y)\n",
    "                rep_maps[j].append(model.coef_)\n",
    "            rep_maps[j] = np.array(rep_maps[j])\n",
    "            \n",
    "        mean_rep_map = np.array(rep_maps).mean(axis=0)\n",
    "        all_rep_maps[head][tail] = mean_rep_map"
   ]
  },
  {
   "cell_type": "code",
   "execution_count": 6,
   "id": "d59b4e2a-533e-4ca7-abcf-f8a6a3fcbac7",
   "metadata": {},
   "outputs": [],
   "source": [
    "with open('../data/crop_mapping/edge_maps.json', 'w') as file:\n",
    "    json.dump(\n",
    "        all_rep_maps, file,\n",
    "        cls=NumpyArrayEncoder\n",
    "    )"
   ]
  },
  {
   "cell_type": "code",
   "execution_count": null,
   "id": "6623d49c-136a-46f2-acdc-82a225caeb26",
   "metadata": {},
   "outputs": [],
   "source": []
  }
 ],
 "metadata": {
  "kernelspec": {
   "display_name": "Python 3 (ipykernel)",
   "language": "python",
   "name": "python3"
  },
  "language_info": {
   "codemirror_mode": {
    "name": "ipython",
    "version": 3
   },
   "file_extension": ".py",
   "mimetype": "text/x-python",
   "name": "python",
   "nbconvert_exporter": "python",
   "pygments_lexer": "ipython3",
   "version": "3.12.7"
  }
 },
 "nbformat": 4,
 "nbformat_minor": 5
}
